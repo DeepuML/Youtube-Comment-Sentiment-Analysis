{
 "cells": [
  {
   "cell_type": "code",
   "execution_count": 1,
   "id": "e73e55ba",
   "metadata": {},
   "outputs": [
    {
     "name": "stderr",
     "output_type": "stream",
     "text": [
      "c:\\Users\\Deepu\\anaconda3\\envs\\nlp\\lib\\site-packages\\mlflow\\utils\\requirements_utils.py:20: UserWarning: pkg_resources is deprecated as an API. See https://setuptools.pypa.io/en/latest/pkg_resources.html. The pkg_resources package is slated for removal as early as 2025-11-30. Refrain from using this package or pin to Setuptools<81.\n",
      "  import pkg_resources  # noqa: TID251\n"
     ]
    }
   ],
   "source": [
    "import mlflow\n",
    "import mlflow.sklearn\n",
    "import optuna\n",
    "from sklearn.feature_extraction.text import TfidfVectorizer\n",
    "from sklearn.naive_bayes import MultinomialNB\n",
    "from sklearn.metrics import accuracy_score, classification_report\n",
    "from sklearn.model_selection import train_test_split\n",
    "from imblearn.over_sampling import SMOTE\n",
    "import pandas as pd\n"
   ]
  },
  {
   "cell_type": "code",
   "execution_count": 2,
   "id": "592ed8f2",
   "metadata": {},
   "outputs": [],
   "source": [
    "# ===============================\n",
    "# Step 1: Load dataset\n",
    "# ===============================\n",
    "df = pd.read_csv(r\"C:\\Users\\Deepu\\OneDrive\\Desktop\\Capstone1\\reddit_preprocessing.csv\")  # Replace with your dataset path\n",
    "# Columns assumed: 'clean_comment' (text) and 'category' (target)\n"
   ]
  },
  {
   "cell_type": "code",
   "execution_count": 4,
   "id": "7b74b355",
   "metadata": {},
   "outputs": [],
   "source": [
    "#  ===============================\n",
    "# Step 2: Vectorization (TF-IDF)\n",
    "# ===============================\n",
    "ngram_range = (1, 3)   # Trigrams\n",
    "max_features = 1000    # Limit vocab size\n",
    "\n",
    "vectorizer = TfidfVectorizer(ngram_range=ngram_range, max_features=max_features)\n",
    "X = vectorizer.fit_transform(df['clean_comment'])\n",
    "y = df['category']"
   ]
  },
  {
   "cell_type": "code",
   "execution_count": 5,
   "id": "31adf6ec",
   "metadata": {},
   "outputs": [],
   "source": [
    "# ===============================\n",
    "# Step 3: Apply SMOTE\n",
    "# ===============================\n",
    "smote = SMOTE(random_state=42)\n",
    "X_resampled, y_resampled = smote.fit_resample(X, y)\n",
    "\n",
    "# ===============================\n",
    "# Step 4: Train-test split\n",
    "# ===============================\n",
    "X_train, X_test, y_train, y_test = train_test_split(\n",
    "    X_resampled, y_resampled, test_size=0.2, random_state=42, stratify=y_resampled\n",
    ")"
   ]
  },
  {
   "cell_type": "code",
   "execution_count": 6,
   "id": "13b381e5",
   "metadata": {},
   "outputs": [],
   "source": [
    "# ===============================\n",
    "# Step 5: Optuna Objective Function\n",
    "# ===============================\n",
    "def objective_nb(trial):\n",
    "    params = {\n",
    "        \"alpha\": trial.suggest_float(\"alpha\", 1e-3, 10.0, log=True)\n",
    "    }\n",
    "    model = MultinomialNB(**params)\n",
    "    model.fit(X_train, y_train)\n",
    "    return accuracy_score(y_test, model.predict(X_test))\n",
    "\n"
   ]
  },
  {
   "cell_type": "code",
   "execution_count": 7,
   "id": "7406561b",
   "metadata": {},
   "outputs": [
    {
     "name": "stderr",
     "output_type": "stream",
     "text": [
      "2025/08/14 15:25:19 INFO mlflow.tracking.fluent: Experiment with name 'ML Algos with HPT' does not exist. Creating a new experiment.\n",
      "[I 2025-08-14 15:25:20,022] A new study created in memory with name: no-name-db284274-3293-4c9d-a8a7-3be4dee4bc59\n",
      "[I 2025-08-14 15:25:20,056] Trial 0 finished with value: 0.6760012680967981 and parameters: {'alpha': 0.05869149298175801}. Best is trial 0 with value: 0.6760012680967981.\n",
      "[I 2025-08-14 15:25:20,183] Trial 1 finished with value: 0.6762126175631407 and parameters: {'alpha': 0.003921517148225753}. Best is trial 1 with value: 0.6762126175631407.\n",
      "[I 2025-08-14 15:25:20,236] Trial 2 finished with value: 0.6751558702314276 and parameters: {'alpha': 0.2847093325000857}. Best is trial 1 with value: 0.6762126175631407.\n",
      "[I 2025-08-14 15:25:20,318] Trial 3 finished with value: 0.6762126175631407 and parameters: {'alpha': 0.10215395501812495}. Best is trial 1 with value: 0.6762126175631407.\n",
      "[I 2025-08-14 15:25:20,416] Trial 4 finished with value: 0.6714572545704323 and parameters: {'alpha': 1.4164291942807254}. Best is trial 1 with value: 0.6762126175631407.\n",
      "[I 2025-08-14 15:25:20,582] Trial 5 finished with value: 0.6756842438972842 and parameters: {'alpha': 0.2480495394492654}. Best is trial 1 with value: 0.6762126175631407.\n",
      "[I 2025-08-14 15:25:20,608] Trial 6 finished with value: 0.6763182922963119 and parameters: {'alpha': 0.002802631141018244}. Best is trial 6 with value: 0.6763182922963119.\n",
      "[I 2025-08-14 15:25:20,629] Trial 7 finished with value: 0.6761069428299693 and parameters: {'alpha': 0.049328322773197694}. Best is trial 6 with value: 0.6763182922963119.\n",
      "[I 2025-08-14 15:25:20,650] Trial 8 finished with value: 0.6763182922963119 and parameters: {'alpha': 0.0021750045918746386}. Best is trial 6 with value: 0.6763182922963119.\n",
      "[I 2025-08-14 15:25:20,799] Trial 9 finished with value: 0.6762126175631407 and parameters: {'alpha': 0.014640896890680708}. Best is trial 6 with value: 0.6763182922963119.\n",
      "[I 2025-08-14 15:25:20,842] Trial 10 finished with value: 0.6616295043855014 and parameters: {'alpha': 6.7139431081317005}. Best is trial 6 with value: 0.6763182922963119.\n",
      "[I 2025-08-14 15:25:20,873] Trial 11 finished with value: 0.6763182922963119 and parameters: {'alpha': 0.0015515502029403668}. Best is trial 6 with value: 0.6763182922963119.\n",
      "[I 2025-08-14 15:25:20,900] Trial 12 finished with value: 0.6762126175631407 and parameters: {'alpha': 0.0055105214033028945}. Best is trial 6 with value: 0.6763182922963119.\n",
      "[I 2025-08-14 15:25:20,940] Trial 13 finished with value: 0.6763182922963119 and parameters: {'alpha': 0.0023153680626012627}. Best is trial 6 with value: 0.6763182922963119.\n",
      "[I 2025-08-14 15:25:21,014] Trial 14 finished with value: 0.6761069428299693 and parameters: {'alpha': 0.013016374173047964}. Best is trial 6 with value: 0.6763182922963119.\n",
      "[I 2025-08-14 15:25:21,074] Trial 15 finished with value: 0.6763182922963119 and parameters: {'alpha': 0.0010123193460550015}. Best is trial 6 with value: 0.6763182922963119.\n",
      "[I 2025-08-14 15:25:21,244] Trial 16 finished with value: 0.6761069428299693 and parameters: {'alpha': 0.010577154946632058}. Best is trial 6 with value: 0.6763182922963119.\n",
      "[I 2025-08-14 15:25:21,272] Trial 17 finished with value: 0.6762126175631407 and parameters: {'alpha': 0.027135083919727007}. Best is trial 6 with value: 0.6763182922963119.\n",
      "[I 2025-08-14 15:25:21,309] Trial 18 finished with value: 0.6762126175631407 and parameters: {'alpha': 0.0043944988586150716}. Best is trial 6 with value: 0.6763182922963119.\n",
      "[I 2025-08-14 15:25:21,341] Trial 19 finished with value: 0.6763182922963119 and parameters: {'alpha': 0.002757807445419996}. Best is trial 6 with value: 0.6763182922963119.\n",
      "[I 2025-08-14 15:25:21,365] Trial 20 finished with value: 0.6761069428299693 and parameters: {'alpha': 0.009062218362602792}. Best is trial 6 with value: 0.6763182922963119.\n",
      "[I 2025-08-14 15:25:21,395] Trial 21 finished with value: 0.6763182922963119 and parameters: {'alpha': 0.0011678692780711457}. Best is trial 6 with value: 0.6763182922963119.\n",
      "[I 2025-08-14 15:25:21,591] Trial 22 finished with value: 0.6763182922963119 and parameters: {'alpha': 0.0017569294850717117}. Best is trial 6 with value: 0.6763182922963119.\n",
      "[I 2025-08-14 15:25:21,636] Trial 23 finished with value: 0.6763182922963119 and parameters: {'alpha': 0.001035313343918007}. Best is trial 6 with value: 0.6763182922963119.\n",
      "[I 2025-08-14 15:25:21,671] Trial 24 finished with value: 0.6762126175631407 and parameters: {'alpha': 0.0054319071318414975}. Best is trial 6 with value: 0.6763182922963119.\n",
      "[I 2025-08-14 15:25:21,705] Trial 25 finished with value: 0.6762126175631407 and parameters: {'alpha': 0.021711128220259376}. Best is trial 6 with value: 0.6763182922963119.\n",
      "[I 2025-08-14 15:25:21,729] Trial 26 finished with value: 0.6763182922963119 and parameters: {'alpha': 0.0018747539740743718}. Best is trial 6 with value: 0.6763182922963119.\n",
      "[I 2025-08-14 15:25:21,756] Trial 27 finished with value: 0.6762126175631407 and parameters: {'alpha': 0.006978305309404751}. Best is trial 6 with value: 0.6763182922963119.\n",
      "[I 2025-08-14 15:25:21,783] Trial 28 finished with value: 0.6763182922963119 and parameters: {'alpha': 0.002837213769794347}. Best is trial 6 with value: 0.6763182922963119.\n",
      "[I 2025-08-14 15:25:21,809] Trial 29 finished with value: 0.6761069428299693 and parameters: {'alpha': 0.05177489122850694}. Best is trial 6 with value: 0.6763182922963119.\n"
     ]
    }
   ],
   "source": [
    "# ===============================\n",
    "# Step 6: Hyperparameter Tuning\n",
    "# ===============================\n",
    "mlflow.set_experiment(\"ML Algos with HPT\")\n",
    "\n",
    "study = optuna.create_study(direction=\"maximize\")\n",
    "study.optimize(objective_nb, n_trials=30)\n",
    "best_params = study.best_params"
   ]
  },
  {
   "cell_type": "code",
   "execution_count": 8,
   "id": "2ca29678",
   "metadata": {},
   "outputs": [
    {
     "name": "stdout",
     "output_type": "stream",
     "text": [
      "Best Parameters: {'alpha': 0.002802631141018244}\n",
      "Model Saved at: runs:/da09880641544ff29edcfc3e226c4323/best_naivebayes_model\n"
     ]
    },
    {
     "name": "stderr",
     "output_type": "stream",
     "text": [
      "Successfully registered model 'NaiveBayes_TFIDF_Trigrams_SMOTE'.\n",
      "Created version '1' of model 'NaiveBayes_TFIDF_Trigrams_SMOTE'.\n"
     ]
    }
   ],
   "source": [
    "# ===============================\n",
    "# Step 7: Train Best Model + Log to MLflow\n",
    "# ===============================\n",
    "with mlflow.start_run(run_name=\"NaiveBayes_with_SMOTE_TFIDF_Trigrams\"):\n",
    "    # Log vectorizer settings\n",
    "    mlflow.log_param(\"vectorizer_type\", \"TF-IDF\")\n",
    "    mlflow.log_param(\"ngram_range\", ngram_range)\n",
    "    mlflow.log_param(\"max_features\", max_features)\n",
    "    mlflow.log_param(\"imbalance_method\", \"SMOTE\")\n",
    "\n",
    "    # Log hyperparameters\n",
    "    for param, value in best_params.items():\n",
    "        mlflow.log_param(param, value)\n",
    "\n",
    "    # Train model\n",
    "    best_model = MultinomialNB(**best_params)\n",
    "    best_model.fit(X_train, y_train)\n",
    "    y_pred = best_model.predict(X_test)\n",
    "\n",
    "    # Log metrics\n",
    "    report = classification_report(y_test, y_pred, output_dict=True)\n",
    "    for label, metrics in report.items():\n",
    "        if isinstance(metrics, dict):\n",
    "            for metric, value in metrics.items():\n",
    "                mlflow.log_metric(f\"{label}_{metric}\", value)\n",
    "\n",
    "    # Save & log model\n",
    "    model_info = mlflow.sklearn.log_model(\n",
    "        sk_model=best_model,\n",
    "        artifact_path=\"best_naivebayes_model\",\n",
    "        registered_model_name=\"NaiveBayes_TFIDF_Trigrams_SMOTE\"\n",
    "    )\n",
    "\n",
    "    print(\"Best Parameters:\", best_params)\n",
    "    print(\"Model Saved at:\", model_info.model_uri)"
   ]
  },
  {
   "cell_type": "code",
   "execution_count": null,
   "id": "113c02dc",
   "metadata": {},
   "outputs": [],
   "source": []
  }
 ],
 "metadata": {
  "kernelspec": {
   "display_name": "nlp",
   "language": "python",
   "name": "python3"
  },
  "language_info": {
   "codemirror_mode": {
    "name": "ipython",
    "version": 3
   },
   "file_extension": ".py",
   "mimetype": "text/x-python",
   "name": "python",
   "nbconvert_exporter": "python",
   "pygments_lexer": "ipython3",
   "version": "3.10.18"
  }
 },
 "nbformat": 4,
 "nbformat_minor": 5
}
