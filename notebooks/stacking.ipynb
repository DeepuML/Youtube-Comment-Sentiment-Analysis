{
 "cells": [
  {
   "cell_type": "code",
   "execution_count": 2,
   "id": "53c15670",
   "metadata": {},
   "outputs": [],
   "source": [
    "import pandas as pd\n",
    "from sklearn.model_selection import train_test_split\n",
    "from sklearn.feature_extraction.text import TfidfVectorizer\n",
    "from sklearn.ensemble import StackingClassifier\n",
    "from sklearn.linear_model import LogisticRegression\n",
    "from sklearn.neighbors import KNeighborsClassifier\n",
    "from lightgbm import LGBMClassifier\n",
    "from sklearn.metrics import classification_report\n"
   ]
  },
  {
   "cell_type": "code",
   "execution_count": 6,
   "id": "5f6ca467",
   "metadata": {},
   "outputs": [],
   "source": [
    "# Load the dataset\n",
    "dataset = pd.read_csv(r'C:\\Users\\Deepu\\OneDrive\\Desktop\\Capstone1\\reddit_preprocessing.csv')"
   ]
  },
  {
   "cell_type": "code",
   "execution_count": 7,
   "id": "98040ca0",
   "metadata": {},
   "outputs": [],
   "source": [
    "# Drop rows with NaN values in 'clean_comment'\n",
    "cleaned_dataset = dataset.dropna()\n",
    "\n",
    "# Separate features and target\n",
    "X_cleaned = cleaned_dataset['clean_comment']\n",
    "y_cleaned = cleaned_dataset['category']"
   ]
  },
  {
   "cell_type": "code",
   "execution_count": null,
   "id": "79f3b9a7",
   "metadata": {},
   "outputs": [],
   "source": [
    "# Split the cleaned data into train and test sets (80-20 split)\n",
    "X_train_cleaned, X_test_cleaned, y_train_cleaned, y_test_cleaned = train_test_split(X_cleaned, y_cleaned, test_size=0.2, random_state=42)"
   ]
  },
  {
   "cell_type": "code",
   "execution_count": 9,
   "id": "fcbf3ff8",
   "metadata": {},
   "outputs": [],
   "source": [
    "# Apply TfidfVectorizer with trigram setting and max_features=10000\n",
    "tfidf = TfidfVectorizer(ngram_range=(1, 3), max_features=10000)\n",
    "X_train_tfidf_cleaned = tfidf.fit_transform(X_train_cleaned)\n",
    "X_test_tfidf_cleaned = tfidf.transform(X_test_cleaned)"
   ]
  },
  {
   "cell_type": "code",
   "execution_count": 10,
   "id": "e44baabd",
   "metadata": {},
   "outputs": [],
   "source": [
    "# Define the base classifiers\n",
    "\n",
    "#Base Learner\n",
    "lgbm = LGBMClassifier(\n",
    "    objective=\"multiclass\",  \n",
    "    num_class=3,\n",
    "    n_estimators=200, \n",
    "    learning_rate=0.1,\n",
    "    max_depth=15,\n",
    "    random_state=42\n",
    ")\n",
    "\n",
    "# Base Learner\n",
    "lr = LogisticRegression(\n",
    "    max_iter=1000,\n",
    "    C=1.0,\n",
    "    solver='lbfgs',\n",
    "    multi_class='multinomial',\n",
    "    random_state=42\n",
    ")\n",
    "\n",
    "# Meta learner \n",
    "knn = KNeighborsClassifier(n_neighbors=5)"
   ]
  },
  {
   "cell_type": "code",
   "execution_count": 11,
   "id": "7f1f29b7",
   "metadata": {},
   "outputs": [],
   "source": [
    "# Create the stacking classifier\n",
    "# Define estimators (base models)\n",
    "estimators = [\n",
    "    ('lgbm', lgbm),\n",
    "    ('lr', lr),\n",
    "    ('knn', knn)\n",
    "]\n",
    "\n",
    "# Define the final estimator (meta-model)\n",
    "final_estimator = LogisticRegression(max_iter=1000)\n",
    "\n",
    "# Create the StackingClassifier\n",
    "stacking_clf = StackingClassifier(\n",
    "    estimators = [\n",
    "    ('lgbm', lgbm),\n",
    "    ('lr', lr)\n",
    "],\n",
    "    final_estimator=knn   ,\n",
    "    cv=5,  # 5-fold cross-validation\n",
    "    stack_method='auto',  # Use predict_proba when available, otherwise predict\n",
    "    n_jobs=-1  # Use all available cores\n",
    ")"
   ]
  },
  {
   "cell_type": "code",
   "execution_count": 12,
   "id": "07fc9270",
   "metadata": {},
   "outputs": [
    {
     "name": "stdout",
     "output_type": "stream",
     "text": [
      "Training the stacking classifier...\n",
      "Training complete!\n"
     ]
    }
   ],
   "source": [
    "# Fit the stacking classifier on the training data\n",
    "print(\"Training the stacking classifier...\")\n",
    "stacking_clf.fit(X_train_tfidf_cleaned, y_train_cleaned)\n",
    "print(\"Training complete!\")"
   ]
  },
  {
   "cell_type": "code",
   "execution_count": 13,
   "id": "7f1b30b3",
   "metadata": {},
   "outputs": [
    {
     "name": "stderr",
     "output_type": "stream",
     "text": [
      "c:\\Users\\Deepu\\anaconda3\\envs\\nlp\\lib\\site-packages\\sklearn\\utils\\validation.py:2739: UserWarning: X does not have valid feature names, but LGBMClassifier was fitted with feature names\n",
      "  warnings.warn(\n"
     ]
    },
    {
     "name": "stdout",
     "output_type": "stream",
     "text": [
      "Classification Report for Stacking Classifier:\n",
      "              precision    recall  f1-score   support\n",
      "\n",
      "          -1       0.84      0.82      0.83      1581\n",
      "           0       0.93      0.97      0.95      2617\n",
      "           1       0.92      0.90      0.91      3152\n",
      "\n",
      "    accuracy                           0.91      7350\n",
      "   macro avg       0.90      0.90      0.90      7350\n",
      "weighted avg       0.91      0.91      0.91      7350\n",
      "\n"
     ]
    }
   ],
   "source": [
    "# Make predictions on the test set\n",
    "y_pred = stacking_clf.predict(X_test_tfidf_cleaned)\n",
    "\n",
    "# Print classification report\n",
    "print(\"Classification Report for Stacking Classifier:\")\n",
    "print(classification_report(y_test_cleaned, y_pred))"
   ]
  },
  {
   "cell_type": "code",
   "execution_count": 14,
   "id": "96eb81d8",
   "metadata": {},
   "outputs": [
    {
     "name": "stdout",
     "output_type": "stream",
     "text": [
      "Training LightGBM...\n",
      "[LightGBM] [Info] Auto-choosing col-wise multi-threading, the overhead of testing was 0.187180 seconds.\n",
      "You can set `force_col_wise=true` to remove the overhead.\n",
      "[LightGBM] [Info] Total Bins 198915\n",
      "[LightGBM] [Info] Number of data points in the train set: 29400, number of used features: 7117\n",
      "[LightGBM] [Info] Start training from score -1.483825\n",
      "[LightGBM] [Info] Start training from score -1.066975\n",
      "[LightGBM] [Info] Start training from score -0.845870\n",
      "[LightGBM] [Warning] No further splits with positive gain, best gain: -inf\n",
      "[LightGBM] [Warning] No further splits with positive gain, best gain: -inf\n",
      "[LightGBM] [Warning] No further splits with positive gain, best gain: -inf\n",
      "[LightGBM] [Warning] No further splits with positive gain, best gain: -inf\n",
      "[LightGBM] [Warning] No further splits with positive gain, best gain: -inf\n",
      "[LightGBM] [Warning] No further splits with positive gain, best gain: -inf\n",
      "[LightGBM] [Warning] No further splits with positive gain, best gain: -inf\n",
      "[LightGBM] [Warning] No further splits with positive gain, best gain: -inf\n",
      "[LightGBM] [Warning] No further splits with positive gain, best gain: -inf\n",
      "[LightGBM] [Warning] No further splits with positive gain, best gain: -inf\n",
      "[LightGBM] [Warning] No further splits with positive gain, best gain: -inf\n",
      "[LightGBM] [Warning] No further splits with positive gain, best gain: -inf\n",
      "[LightGBM] [Warning] No further splits with positive gain, best gain: -inf\n",
      "[LightGBM] [Warning] No further splits with positive gain, best gain: -inf\n",
      "[LightGBM] [Warning] No further splits with positive gain, best gain: -inf\n",
      "[LightGBM] [Warning] No further splits with positive gain, best gain: -inf\n",
      "[LightGBM] [Warning] No further splits with positive gain, best gain: -inf\n",
      "[LightGBM] [Warning] No further splits with positive gain, best gain: -inf\n",
      "[LightGBM] [Warning] No further splits with positive gain, best gain: -inf\n",
      "[LightGBM] [Warning] No further splits with positive gain, best gain: -inf\n",
      "[LightGBM] [Warning] No further splits with positive gain, best gain: -inf\n",
      "[LightGBM] [Warning] No further splits with positive gain, best gain: -inf\n",
      "[LightGBM] [Warning] No further splits with positive gain, best gain: -inf\n",
      "[LightGBM] [Warning] No further splits with positive gain, best gain: -inf\n",
      "[LightGBM] [Warning] No further splits with positive gain, best gain: -inf\n",
      "[LightGBM] [Warning] No further splits with positive gain, best gain: -inf\n",
      "[LightGBM] [Warning] No further splits with positive gain, best gain: -inf\n",
      "[LightGBM] [Warning] No further splits with positive gain, best gain: -inf\n",
      "[LightGBM] [Warning] No further splits with positive gain, best gain: -inf\n",
      "[LightGBM] [Warning] No further splits with positive gain, best gain: -inf\n",
      "[LightGBM] [Warning] No further splits with positive gain, best gain: -inf\n",
      "[LightGBM] [Warning] No further splits with positive gain, best gain: -inf\n",
      "[LightGBM] [Warning] No further splits with positive gain, best gain: -inf\n",
      "[LightGBM] [Warning] No further splits with positive gain, best gain: -inf\n",
      "[LightGBM] [Warning] No further splits with positive gain, best gain: -inf\n",
      "[LightGBM] [Warning] No further splits with positive gain, best gain: -inf\n",
      "[LightGBM] [Warning] No further splits with positive gain, best gain: -inf\n",
      "[LightGBM] [Warning] No further splits with positive gain, best gain: -inf\n",
      "[LightGBM] [Warning] No further splits with positive gain, best gain: -inf\n",
      "[LightGBM] [Warning] No further splits with positive gain, best gain: -inf\n",
      "[LightGBM] [Warning] No further splits with positive gain, best gain: -inf\n",
      "[LightGBM] [Warning] No further splits with positive gain, best gain: -inf\n",
      "[LightGBM] [Warning] No further splits with positive gain, best gain: -inf\n",
      "[LightGBM] [Warning] No further splits with positive gain, best gain: -inf\n",
      "[LightGBM] [Warning] No further splits with positive gain, best gain: -inf\n",
      "[LightGBM] [Warning] No further splits with positive gain, best gain: -inf\n",
      "[LightGBM] [Warning] No further splits with positive gain, best gain: -inf\n",
      "[LightGBM] [Warning] No further splits with positive gain, best gain: -inf\n",
      "[LightGBM] [Warning] No further splits with positive gain, best gain: -inf\n",
      "[LightGBM] [Warning] No further splits with positive gain, best gain: -inf\n",
      "[LightGBM] [Warning] No further splits with positive gain, best gain: -inf\n",
      "[LightGBM] [Warning] No further splits with positive gain, best gain: -inf\n",
      "[LightGBM] [Warning] No further splits with positive gain, best gain: -inf\n",
      "[LightGBM] [Warning] No further splits with positive gain, best gain: -inf\n",
      "[LightGBM] [Warning] No further splits with positive gain, best gain: -inf\n",
      "[LightGBM] [Warning] No further splits with positive gain, best gain: -inf\n"
     ]
    },
    {
     "name": "stderr",
     "output_type": "stream",
     "text": [
      "c:\\Users\\Deepu\\anaconda3\\envs\\nlp\\lib\\site-packages\\sklearn\\utils\\validation.py:2739: UserWarning: X does not have valid feature names, but LGBMClassifier was fitted with feature names\n",
      "  warnings.warn(\n",
      "c:\\Users\\Deepu\\anaconda3\\envs\\nlp\\lib\\site-packages\\sklearn\\linear_model\\_logistic.py:1247: FutureWarning: 'multi_class' was deprecated in version 1.5 and will be removed in 1.7. From then on, it will always use 'multinomial'. Leave it to its default value to avoid this warning.\n",
      "  warnings.warn(\n"
     ]
    },
    {
     "name": "stdout",
     "output_type": "stream",
     "text": [
      "\n",
      "Classification Report for LightGBM:\n",
      "              precision    recall  f1-score   support\n",
      "\n",
      "          -1       0.88      0.74      0.80      1581\n",
      "           0       0.88      0.98      0.93      2617\n",
      "           1       0.91      0.90      0.90      3152\n",
      "\n",
      "    accuracy                           0.89      7350\n",
      "   macro avg       0.89      0.87      0.88      7350\n",
      "weighted avg       0.89      0.89      0.89      7350\n",
      "\n",
      "Training Logistic Regression...\n",
      "\n",
      "Classification Report for Logistic Regression:\n",
      "              precision    recall  f1-score   support\n",
      "\n",
      "          -1       0.85      0.67      0.75      1581\n",
      "           0       0.85      0.95      0.90      2617\n",
      "           1       0.88      0.89      0.88      3152\n",
      "\n",
      "    accuracy                           0.86      7350\n",
      "   macro avg       0.86      0.84      0.84      7350\n",
      "weighted avg       0.86      0.86      0.86      7350\n",
      "\n",
      "Training K-Nearest Neighbors...\n",
      "\n",
      "Classification Report for K-Nearest Neighbors:\n",
      "              precision    recall  f1-score   support\n",
      "\n",
      "          -1       0.75      0.05      0.10      1581\n",
      "           0       0.37      0.98      0.53      2617\n",
      "           1       0.88      0.06      0.11      3152\n",
      "\n",
      "    accuracy                           0.39      7350\n",
      "   macro avg       0.66      0.37      0.25      7350\n",
      "weighted avg       0.67      0.39      0.26      7350\n",
      "\n"
     ]
    }
   ],
   "source": [
    "# For comparison, let's train and evaluate each base model individually\n",
    "\n",
    "# Function to train, predict and evaluate a classifier\n",
    "def evaluate_model(clf, name):\n",
    "    print(f\"Training {name}...\")\n",
    "    clf.fit(X_train_tfidf_cleaned, y_train_cleaned)\n",
    "    y_pred = clf.predict(X_test_tfidf_cleaned)\n",
    "    print(f\"\\nClassification Report for {name}:\")\n",
    "    print(classification_report(y_test_cleaned, y_pred))\n",
    "    return y_pred\n",
    "\n",
    "# Evaluate each base model\n",
    "lgbm_pred = evaluate_model(lgbm, \"LightGBM\")\n",
    "lr_pred = evaluate_model(lr, \"Logistic Regression\")\n",
    "knn_pred = evaluate_model(knn, \"K-Nearest Neighbors\")"
   ]
  },
  {
   "cell_type": "code",
   "execution_count": 15,
   "id": "5ab70474",
   "metadata": {},
   "outputs": [
    {
     "data": {
      "image/png": "[encoded data removed]",
      "text/plain": [
       "<Figure size 1200x600 with 1 Axes>"
      ]
     },
     "metadata": {},
     "output_type": "display_data"
    },
    {
     "data": {
      "text/html": [
       "<div>\n",
       "<style scoped>\n",
       "    .dataframe tbody tr th:only-of-type {\n",
       "        vertical-align: middle;\n",
       "    }\n",
       "\n",
       "    .dataframe tbody tr th {\n",
       "        vertical-align: top;\n",
       "    }\n",
       "\n",
       "    .dataframe thead th {\n",
       "        text-align: right;\n",
       "    }\n",
       "</style>\n",
       "<table border=\"1\" class=\"dataframe\">\n",
       "  <thead>\n",
       "    <tr style=\"text-align: right;\">\n",
       "      <th></th>\n",
       "      <th>Model</th>\n",
       "      <th>Accuracy</th>\n",
       "    </tr>\n",
       "  </thead>\n",
       "  <tbody>\n",
       "    <tr>\n",
       "      <th>0</th>\n",
       "      <td>Stacking</td>\n",
       "      <td>0.907211</td>\n",
       "    </tr>\n",
       "    <tr>\n",
       "      <th>1</th>\n",
       "      <td>LightGBM</td>\n",
       "      <td>0.891837</td>\n",
       "    </tr>\n",
       "    <tr>\n",
       "      <th>2</th>\n",
       "      <td>Logistic Regression</td>\n",
       "      <td>0.862177</td>\n",
       "    </tr>\n",
       "    <tr>\n",
       "      <th>3</th>\n",
       "      <td>KNN</td>\n",
       "      <td>0.387619</td>\n",
       "    </tr>\n",
       "  </tbody>\n",
       "</table>\n",
       "</div>"
      ],
      "text/plain": [
       "                 Model  Accuracy\n",
       "0             Stacking  0.907211\n",
       "1             LightGBM  0.891837\n",
       "2  Logistic Regression  0.862177\n",
       "3                  KNN  0.387619"
      ]
     },
     "execution_count": 15,
     "metadata": {},
     "output_type": "execute_result"
    }
   ],
   "source": [
    "# Compare model accuracies\n",
    "from sklearn.metrics import accuracy_score\n",
    "import matplotlib.pyplot as plt\n",
    "import numpy as np\n",
    "\n",
    "# Calculate accuracies\n",
    "accuracies = {\n",
    "    'Stacking': accuracy_score(y_test_cleaned, y_pred),\n",
    "    'LightGBM': accuracy_score(y_test_cleaned, lgbm_pred),\n",
    "    'Logistic Regression': accuracy_score(y_test_cleaned, lr_pred),\n",
    "    'KNN': accuracy_score(y_test_cleaned, knn_pred)\n",
    "}\n",
    "\n",
    "# Create a bar chart\n",
    "plt.figure(figsize=(12, 6))\n",
    "models = list(accuracies.keys())\n",
    "acc_values = list(accuracies.values())\n",
    "\n",
    "bars = plt.bar(models, acc_values, color=['blue', 'green', 'orange', 'red'])\n",
    "plt.title('Model Accuracy Comparison', fontsize=15)\n",
    "plt.ylabel('Accuracy')\n",
    "plt.ylim(0, 1.0)\n",
    "plt.grid(axis='y', linestyle='--', alpha=0.7)\n",
    "\n",
    "# Add accuracy values on top of bars\n",
    "for bar in bars:\n",
    "    height = bar.get_height()\n",
    "    plt.text(bar.get_x() + bar.get_width()/2., height + 0.01,\n",
    "             f'{height:.4f}', ha='center', fontsize=12)\n",
    "\n",
    "plt.tight_layout()\n",
    "plt.show()\n",
    "\n",
    "# Print accuracies as a table\n",
    "acc_df = pd.DataFrame({'Model': models, 'Accuracy': acc_values})\n",
    "acc_df"
   ]
  },
  {
   "cell_type": "code",
   "execution_count": 16,
   "id": "744e23c0",
   "metadata": {},
   "outputs": [
    {
     "name": "stdout",
     "output_type": "stream",
     "text": [
      "Top 20 most important features:\n"
     ]
    },
    {
     "data": {
      "image/png": "[encoded data removed]",
      "text/plain": [
       "<Figure size 1200x800 with 1 Axes>"
      ]
     },
     "metadata": {},
     "output_type": "display_data"
    }
   ],
   "source": [
    "# Get feature importance from the LightGBM model (one of our base models)\n",
    "# This can help us understand which features are most important for classification\n",
    "\n",
    "# Get feature names from TF-IDF\n",
    "feature_names = tfidf.get_feature_names_out()\n",
    "\n",
    "# Get feature importances from LightGBM\n",
    "importances = lgbm.feature_importances_\n",
    "\n",
    "# Create a DataFrame for better visualization\n",
    "feature_importance_df = pd.DataFrame({\n",
    "    'Feature': feature_names,\n",
    "    'Importance': importances\n",
    "}).sort_values(by='Importance', ascending=False)\n",
    "\n",
    "# Display top 20 most important features\n",
    "print(\"Top 20 most important features:\")\n",
    "feature_importance_df.head(20)\n",
    "\n",
    "# Plot the top 20 features\n",
    "plt.figure(figsize=(12, 8))\n",
    "plt.barh(feature_importance_df.head(20)['Feature'][::-1], \n",
    "         feature_importance_df.head(20)['Importance'][::-1])\n",
    "plt.xlabel('Importance')\n",
    "plt.title('Top 20 Most Important Features')\n",
    "plt.tight_layout()\n",
    "plt.show()"
   ]
  },
  {
   "cell_type": "code",
   "execution_count": 17,
   "id": "0a7fe9f7",
   "metadata": {},
   "outputs": [
    {
     "name": "stdout",
     "output_type": "stream",
     "text": [
      "Models saved successfully!\n"
     ]
    }
   ],
   "source": [
    "# Save the trained models for future use\n",
    "import pickle\n",
    "import os\n",
    "\n",
    "# Create a models directory if it doesn't exist\n",
    "os.makedirs('models', exist_ok=True)\n",
    "\n",
    "# Save the stacking classifier\n",
    "with open('models/stacking_classifier.pkl', 'wb') as f:\n",
    "    pickle.dump(stacking_clf, f)\n",
    "\n",
    "# Save the TF-IDF vectorizer (needed for preprocessing new data)\n",
    "with open('models/tfidf_vectorizer.pkl', 'wb') as f:\n",
    "    pickle.dump(tfidf, f)\n",
    "\n",
    "print(\"Models saved successfully!\")"
   ]
  },
  {
   "cell_type": "markdown",
   "id": "0a8c09d6",
   "metadata": {},
   "source": [
    "# Conclusion\n",
    "\n",
    "In this notebook, we've created a stacking ensemble model that combines the strengths of three different classifiers:\n",
    "\n",
    "1. **LightGBM** - A gradient boosting framework that uses tree-based learning algorithms\n",
    "2. **Logistic Regression** - A linear model for classification\n",
    "3. **K-Nearest Neighbors** - A non-parametric method for classification\n",
    "\n",
    "The stacking approach allows us to leverage the strengths of each individual model while mitigating their weaknesses. By using a meta-classifier (LogisticRegression), we can intelligently combine the predictions of the base models to achieve better overall performance.\n",
    "\n",
    "The comparison between the stacking ensemble and individual models shows whether the ensemble approach provides meaningful improvement over the base models."
   ]
  },
  {
   "cell_type": "markdown",
   "id": "bc34591f",
   "metadata": {},
   "source": [
    "# Stacking Ensemble for Text Classification\n",
    "\n",
    "Stacking is an ensemble learning technique that combines multiple classification models via a meta-classifier. The base models are trained on the complete training set, then the meta-model is trained on the outputs of the base models.\n",
    "\n",
    "This notebook implements:\n",
    "1. TF-IDF feature extraction with trigrams\n",
    "2. Three base classifiers (LightGBM, LogisticRegression, KNN)\n",
    "3. A meta-classifier (LogisticRegression) to combine predictions"
   ]
  }
 ],
 "metadata": {
  "kernelspec": {
   "display_name": "nlp",
   "language": "python",
   "name": "python3"
  },
  "language_info": {
   "codemirror_mode": {
    "name": "ipython",
    "version": 3
   },
   "file_extension": ".py",
   "mimetype": "text/x-python",
   "name": "python",
   "nbconvert_exporter": "python",
   "pygments_lexer": "ipython3",
   "version": "3.10.18"
  }
 },
 "nbformat": 4,
 "nbformat_minor": 5
}
