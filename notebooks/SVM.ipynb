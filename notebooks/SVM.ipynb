{
 "cells": [
  {
   "cell_type": "code",
   "execution_count": 4,
   "id": "c1135ccc",
   "metadata": {},
   "outputs": [],
   "source": [
    "import mlflow\n",
    "mlflow.set_tracking_uri(\"http://13.221.75.66:5000/\")\n"
   ]
  },
  {
   "cell_type": "code",
   "execution_count": null,
   "id": "201f49e0",
   "metadata": {},
   "outputs": [],
   "source": [
    "# Set experiment before logging anything\n",
    "mlflow.set_experiment(\"ML Algos with HPT\")\n",
    "\n",
    "with mlflow.start_run():\n",
    "    mlflow.log_param(\"example_param\", 42)\n"
   ]
  },
  {
   "cell_type": "code",
   "execution_count": 5,
   "id": "3bfce987",
   "metadata": {},
   "outputs": [],
   "source": [
    "import optuna\n",
    "import mlflow\n",
    "import mlflow.sklearn\n",
    "from sklearn.feature_extraction.text import CountVectorizer, TfidfVectorizer\n",
    "from sklearn.linear_model import LogisticRegression\n",
    "from sklearn.svm import SVC\n",
    "from sklearn.neighbors import KNeighborsClassifier\n",
    "from xgboost import XGBClassifier\n",
    "from lightgbm import LGBMClassifier\n",
    "from sklearn.naive_bayes import MultinomialNB\n",
    "from sklearn.ensemble import RandomForestClassifier\n",
    "from sklearn.model_selection import train_test_split\n",
    "from imblearn.over_sampling import SMOTE\n",
    "from sklearn.metrics import accuracy_score, classification_report\n",
    "import pandas as pd\n",
    "import mlflow.sklearn\n",
    "import seaborn as sns\n",
    "import matplotlib.pyplot as plt\n",
    "import os"
   ]
  },
  {
   "cell_type": "code",
   "execution_count": 6,
   "id": "ae0d4ef4",
   "metadata": {},
   "outputs": [
    {
     "data": {
      "text/plain": [
       "(36750, 7)"
      ]
     },
     "execution_count": 6,
     "metadata": {},
     "output_type": "execute_result"
    }
   ],
   "source": [
    "df= pd.read_csv(r'C:\\Users\\Deepu\\OneDrive\\Desktop\\Capstone1\\reddit_preprocessing.csv').dropna()\n",
    "df.shape"
   ]
  },
  {
   "cell_type": "code",
   "execution_count": 7,
   "id": "2df1c5fd",
   "metadata": {},
   "outputs": [],
   "source": [
    "ngram_range = (1,3)\n",
    "max_features = 10000\n",
    "vectorizer = TfidfVectorizer(ngram_range=ngram_range, max_features=max_features)\n",
    "X = vectorizer.fit_transform(df['clean_comment'])\n",
    "y = df['category']\n"
   ]
  },
  {
   "cell_type": "code",
   "execution_count": 8,
   "id": "ac74102e",
   "metadata": {},
   "outputs": [],
   "source": [
    "# Step 3: SMOTE\n",
    "smote = SMOTE(random_state=42)\n",
    "X_resampled, y_resampled = smote.fit_resample(X, y)\n",
    "\n",
    "# Step 4: Train-test split\n",
    "X_train, X_test, y_train, y_test = train_test_split(\n",
    "    X_resampled, y_resampled, test_size=0.2, random_state=42, stratify=y_resampled\n",
    ")"
   ]
  },
  {
   "cell_type": "code",
   "execution_count": 9,
   "id": "dad795e1",
   "metadata": {},
   "outputs": [
    {
     "name": "stdout",
     "output_type": "stream",
     "text": [
      "Requirement already satisfied: optuna in c:\\users\\deepu\\anaconda3\\envs\\nlp\\lib\\site-packages (4.4.0)\n",
      "Requirement already satisfied: alembic>=1.5.0 in c:\\users\\deepu\\anaconda3\\envs\\nlp\\lib\\site-packages (from optuna) (1.16.4)\n",
      "Requirement already satisfied: colorlog in c:\\users\\deepu\\anaconda3\\envs\\nlp\\lib\\site-packages (from optuna) (6.9.0)\n",
      "Requirement already satisfied: numpy in c:\\users\\deepu\\anaconda3\\envs\\nlp\\lib\\site-packages (from optuna) (1.26.4)\n",
      "Requirement already satisfied: packaging>=20.0 in c:\\users\\deepu\\anaconda3\\envs\\nlp\\lib\\site-packages (from optuna) (24.2)\n",
      "Requirement already satisfied: sqlalchemy>=1.4.2 in c:\\users\\deepu\\anaconda3\\envs\\nlp\\lib\\site-packages (from optuna) (2.0.43)\n",
      "Requirement already satisfied: tqdm in c:\\users\\deepu\\anaconda3\\envs\\nlp\\lib\\site-packages (from optuna) (4.67.1)\n",
      "Requirement already satisfied: PyYAML in c:\\users\\deepu\\appdata\\roaming\\python\\python310\\site-packages (from optuna) (6.0.2)\n",
      "Requirement already satisfied: Mako in c:\\users\\deepu\\anaconda3\\envs\\nlp\\lib\\site-packages (from alembic>=1.5.0->optuna) (1.3.10)\n",
      "Requirement already satisfied: typing-extensions>=4.12 in c:\\users\\deepu\\anaconda3\\envs\\nlp\\lib\\site-packages (from alembic>=1.5.0->optuna) (4.14.1)\n",
      "Requirement already satisfied: tomli in c:\\users\\deepu\\appdata\\roaming\\python\\python310\\site-packages (from alembic>=1.5.0->optuna) (2.2.1)\n",
      "Requirement already satisfied: greenlet>=1 in c:\\users\\deepu\\anaconda3\\envs\\nlp\\lib\\site-packages (from sqlalchemy>=1.4.2->optuna) (3.2.4)\n",
      "Requirement already satisfied: colorama in c:\\users\\deepu\\appdata\\roaming\\python\\python310\\site-packages (from colorlog->optuna) (0.4.6)\n",
      "Requirement already satisfied: MarkupSafe>=0.9.2 in c:\\users\\deepu\\appdata\\roaming\\python\\python310\\site-packages (from Mako->alembic>=1.5.0->optuna) (3.0.2)\n"
     ]
    }
   ],
   "source": [
    "! pip install optuna"
   ]
  },
  {
   "cell_type": "code",
   "execution_count": null,
   "id": "ac5f1791",
   "metadata": {},
   "outputs": [
    {
     "name": "stderr",
     "output_type": "stream",
     "text": [
      "[I 2025-08-14 18:32:32,322] A new study created in memory with name: no-name-d69aa695-b31f-413e-afe2-744a04eb7a43\n",
      "[I 2025-08-14 19:19:56,542] Trial 0 finished with value: 0.7947579792855634 and parameters: {'C': 0.24601807222338803, 'kernel': 'linear', 'gamma': 'scale'}. Best is trial 0 with value: 0.7947579792855634.\n",
      "[I 2025-08-14 20:12:27,892] Trial 1 finished with value: 0.4418727541745931 and parameters: {'C': 0.005914870682555769, 'kernel': 'rbf', 'gamma': 'auto'}. Best is trial 0 with value: 0.7947579792855634.\n",
      "[I 2025-08-14 20:35:11,102] Trial 2 finished with value: 0.5169097442401184 and parameters: {'C': 0.008195824309424497, 'kernel': 'linear', 'gamma': 'auto'}. Best is trial 0 with value: 0.7947579792855634.\n"
     ]
    }
   ],
   "source": [
    "def objective_svm(trial):\n",
    "    params = {\n",
    "        \"C\": trial.suggest_float(\"C\", 1e-4, 10.0, log=True),\n",
    "        \"kernel\": trial.suggest_categorical(\"kernel\", [\"linear\", \"rbf\", \"poly\"]),\n",
    "        \"gamma\": trial.suggest_categorical(\"gamma\", [\"scale\", \"auto\"])\n",
    "    }\n",
    "    model = SVC(**params, probability=True, random_state=42)\n",
    "    model.fit(X_train, y_train)\n",
    "    return accuracy_score(y_test, model.predict(X_test))\n",
    "\n",
    "study = optuna.create_study(direction=\"maximize\")\n",
    "study.optimize(objective_svm, n_trials=30)\n",
    "best_params = study.best_params\n",
    "\n",
    "with mlflow.start_run(run_name=\"SVM\"):\n",
    "    best_model = SVC(**best_params, probability=True, random_state=42)\n",
    "    best_model.fit(X_train, y_train)\n",
    "    y_pred = best_model.predict(X_test)\n",
    "    report = classification_report(y_test, y_pred, output_dict=True)\n",
    "    \n",
    "    for label, metrics in report.items():\n",
    "        if isinstance(metrics, dict):\n",
    "            for metric, value in metrics.items():\n",
    "                mlflow.log_metric(f\"{label}_{metric}\", value)\n",
    "    for param, value in best_params.items():\n",
    "        mlflow.log_param(param, value)\n",
    "    \n",
    "    model_info = mlflow.sklearn.log_model(best_model, artifact_path=\"best_svm_model\")\n",
    "    print(\"Best Parameters:\", best_params)\n",
    "    print(\"Model Saved at:\", model_info.model_uri)\n"
   ]
  },
  {
   "cell_type": "code",
   "execution_count": null,
   "id": "80e5218f",
   "metadata": {},
   "outputs": [],
   "source": []
  },
  {
   "cell_type": "code",
   "execution_count": null,
   "id": "a1121955",
   "metadata": {},
   "outputs": [],
   "source": []
  }
 ],
 "metadata": {
  "kernelspec": {
   "display_name": "nlp",
   "language": "python",
   "name": "python3"
  },
  "language_info": {
   "codemirror_mode": {
    "name": "ipython",
    "version": 3
   },
   "file_extension": ".py",
   "mimetype": "text/x-python",
   "name": "python",
   "nbconvert_exporter": "python",
   "pygments_lexer": "ipython3",
   "version": "3.10.18"
  }
 },
 "nbformat": 4,
 "nbformat_minor": 5
}
