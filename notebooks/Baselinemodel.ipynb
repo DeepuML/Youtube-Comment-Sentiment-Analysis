{
  "cells": [
    {
      "cell_type": "code",
      "execution_count": 2,
      "metadata": {
        "colab": {
          "base_uri": "https://localhost:8080/"
        },
        "id": "YtiW7hpktqZo",
        "outputId": "a60cf8ec-8886-4eb1-d9e0-d0424beea457"
      },
      "outputs": [],
      "source": [
        "import mlflow\n",
        "\n",
        "# Use only the base URL for API calls\n",
        "mlflow.set_tracking_uri(\"http://13.221.75.66:5000/\")\n",
        "\n",
        "with mlflow.start_run():\n",
        "    mlflow.log_param(\"param1\", 5)\n",
        "    mlflow.log_metric(\"metric1\", 0.89)\n"
      ]
    },
    {
      "cell_type": "code",
      "execution_count": 3,
      "metadata": {
        "colab": {
          "base_uri": "https://localhost:8080/",
          "height": 245
        },
        "id": "UGN4eFvGxHjl",
        "outputId": "fa4be25a-fbc7-4e26-96c8-263428676ef9"
      },
      "outputs": [
        {
          "name": "stdout",
          "output_type": "stream",
          "text": [
            "<class 'pandas.core.frame.DataFrame'>\n",
            "RangeIndex: 37249 entries, 0 to 37248\n",
            "Data columns (total 2 columns):\n",
            " #   Column         Non-Null Count  Dtype \n",
            "---  ------         --------------  ----- \n",
            " 0   clean_comment  37149 non-null  object\n",
            " 1   category       37249 non-null  int64 \n",
            "dtypes: int64(1), object(1)\n",
            "memory usage: 582.1+ KB\n"
          ]
        },
        {
          "data": {
            "text/html": [
              "<div>\n",
              "<style scoped>\n",
              "    .dataframe tbody tr th:only-of-type {\n",
              "        vertical-align: middle;\n",
              "    }\n",
              "\n",
              "    .dataframe tbody tr th {\n",
              "        vertical-align: top;\n",
              "    }\n",
              "\n",
              "    .dataframe thead th {\n",
              "        text-align: right;\n",
              "    }\n",
              "</style>\n",
              "<table border=\"1\" class=\"dataframe\">\n",
              "  <thead>\n",
              "    <tr style=\"text-align: right;\">\n",
              "      <th></th>\n",
              "      <th>clean_comment</th>\n",
              "      <th>category</th>\n",
              "    </tr>\n",
              "  </thead>\n",
              "  <tbody>\n",
              "  </tbody>\n",
              "</table>\n",
              "</div>"
            ],
            "text/plain": [
              "Empty DataFrame\n",
              "Columns: [clean_comment, category]\n",
              "Index: []"
            ]
          },
          "execution_count": 3,
          "metadata": {},
          "output_type": "execute_result"
        }
      ],
      "source": [
        "import numpy as np\n",
        "import pandas as pd\n",
        "\n",
        "# -------------------------------------------------\n",
        "# 1. Load the dataset\n",
        "# -------------------------------------------------\n",
        "df = pd.read_csv(\n",
        "    r\"https://raw.githubusercontent.com/Himanshu-1703/reddit-sentiment-analysis/refs/heads/main/data/reddit.csv\"\n",
        ")\n",
        "\n",
        "# Preview the first 5 rows\n",
        "df.head()\n",
        "\n",
        "# Check dataset dimensions (rows, columns)\n",
        "df.shape\n",
        "\n",
        "# Randomly sample one value from 'clean_comment'\n",
        "df.sample()['clean_comment'].values\n",
        "\n",
        "# Display dataset information (columns, data types, null counts)\n",
        "df.info()\n",
        "\n",
        "# -------------------------------------------------\n",
        "# 2. Handle missing values\n",
        "# -------------------------------------------------\n",
        "# Show rows where 'clean_comment' is NaN\n",
        "df[df['clean_comment'].isna()]\n",
        "\n",
        "# Show category counts for NaN 'clean_comment'\n",
        "df[df['clean_comment'].isna()]['category'].value_counts()\n",
        "\n",
        "# Drop rows with NaN values in any column\n",
        "df.dropna(inplace=True)\n",
        "\n",
        "# -------------------------------------------------\n",
        "# 3. Remove duplicates\n",
        "# -------------------------------------------------\n",
        "# Count duplicate rows\n",
        "df.duplicated().sum()\n",
        "\n",
        "# Display duplicate rows (if any)\n",
        "df[df.duplicated()]\n",
        "\n",
        "# Remove duplicate rows\n",
        "df.drop_duplicates(inplace=True)\n",
        "\n",
        "# Confirm duplicates removed\n",
        "df.duplicated().sum()\n",
        "\n",
        "# -------------------------------------------------\n",
        "# 4. Remove empty or whitespace-only strings\n",
        "# -------------------------------------------------\n",
        "# Find rows where 'clean_comment' is empty or only spaces\n",
        "df[(df['clean_comment'].str.strip() == '')]\n",
        "\n",
        "# Keep only non-empty comments\n",
        "df = df[~(df['clean_comment'].str.strip() == '')]\n",
        "\n",
        "# -------------------------------------------------\n",
        "# 5. Convert all text to lowercase\n",
        "# -------------------------------------------------\n",
        "df['clean_comment'] = df['clean_comment'].str.lower()\n",
        "\n",
        "# -------------------------------------------------\n",
        "# 6. Detect leading/trailing spaces\n",
        "# -------------------------------------------------\n",
        "df[df['clean_comment'].apply(lambda x: x.endswith(' ') or x.startswith(' '))]\n",
        "\n",
        "# -------------------------------------------------\n",
        "# 7. Remove leading/trailing spaces\n",
        "# -------------------------------------------------\n",
        "df['clean_comment'] = df['clean_comment'].str.strip()\n",
        "\n",
        "# -------------------------------------------------\n",
        "# 8. Verify no leading/trailing spaces remain\n",
        "# -------------------------------------------------\n",
        "df['clean_comment'].apply(lambda x: x.endswith(' ') or x.startswith(' '))\n",
        "\n",
        "# -------------------------------------------------\n",
        "# 9. Identify comments containing URLs\n",
        "# -------------------------------------------------\n",
        "url_pattern = r'https?://(?:[a-zA-Z]|[0-9]|[$-_@.&+]|[!*\\(\\),]|(?:%[0-9a-fA-F][0-9a-fA-F]))+'\n",
        "\n",
        "# Filter rows containing URLs\n",
        "comments_with_urls = df[df['clean_comment'].str.contains(url_pattern, regex=True)]\n",
        "\n",
        "# Display first few comments with URLs\n",
        "comments_with_urls.head()\n",
        "\n",
        "# -------------------------------------------------\n",
        "# 10. Identify comments containing newline characters\n",
        "# -------------------------------------------------\n",
        "comments_with_newline = df[df['clean_comment'].str.contains('\\n', regex=True)]\n",
        "comments_with_newline.head()\n",
        "\n",
        "# -------------------------------------------------\n",
        "# 11. Remove newline characters by replacing them with a space\n",
        "# -------------------------------------------------\n",
        "df['clean_comment'] = df['clean_comment'].str.replace('\\n', ' ', regex=True)\n",
        "\n",
        "# -------------------------------------------------\n",
        "# 12. Verify that newline characters are removed\n",
        "# -------------------------------------------------\n",
        "comments_with_newline_remaining = df[df['clean_comment'].str.contains('\\n', regex=True)]\n",
        "comments_with_newline_remaining\n",
        "\n",
        "\n",
        "\n",
        "\n"
      ]
    },
    {
      "cell_type": "code",
      "execution_count": 4,
      "metadata": {
        "colab": {
          "base_uri": "https://localhost:8080/"
        },
        "id": "YC01zExOxH8e",
        "outputId": "a66c7188-fc23-4b17-c417-00328a5531ab"
      },
      "outputs": [
        {
          "name": "stderr",
          "output_type": "stream",
          "text": [
            "[nltk_data] Downloading package stopwords to\n",
            "[nltk_data]     C:\\Users\\Deepu\\AppData\\Roaming\\nltk_data...\n",
            "[nltk_data]   Package stopwords is already up-to-date!\n",
            "C:\\Users\\Deepu\\AppData\\Local\\Temp\\ipykernel_26124\\3602070586.py:70: FutureWarning: \n",
            "\n",
            "Passing `palette` without assigning `hue` is deprecated and will be removed in v0.14.0. Assign the `x` variable to `hue` and set `legend=False` for the same effect.\n",
            "\n",
            "  sns.barplot(x='stopword', y='frequency', data=stopword_df, palette='viridis')\n",
            "C:\\Users\\Deepu\\AppData\\Local\\Temp\\ipykernel_26124\\3602070586.py:93: FutureWarning: \n",
            "\n",
            "Passing `palette` without assigning `hue` is deprecated and will be removed in v0.14.0. Assign the `y` variable to `hue` and set `legend=False` for the same effect.\n",
            "\n",
            "  sns.barplot(x='frequency', y='bigram', data=bigram_df, palette='magma')\n"
          ]
        }
      ],
      "source": [
        "import pandas as pd\n",
        "import seaborn as sns\n",
        "import matplotlib.pyplot as plt\n",
        "import nltk\n",
        "from nltk.corpus import stopwords\n",
        "from collections import Counter\n",
        "import string\n",
        "from wordcloud import WordCloud\n",
        "\n",
        "\n",
        "# Download NLTK stopwords if not already present\n",
        "nltk.download('stopwords')\n",
        "stop_words = set(stopwords.words('english')) - {'not', 'but', 'no', 'yet'}\n",
        "\n",
        "# -----------------------\n",
        "# Feature Engineering\n",
        "# -----------------------\n",
        "\n",
        "# Word count\n",
        "df['word_count'] = df['clean_comment'].apply(lambda x: len(x.split()))\n",
        "\n",
        "# Stopword count\n",
        "def count_stopwords(text):\n",
        "    return sum(1 for word in text.split() if word in stop_words)\n",
        "df['stopword_count'] = df['clean_comment'].apply(count_stopwords)\n",
        "\n",
        "# Character count\n",
        "df['num_chars'] = df['clean_comment'].apply(len)\n",
        "\n",
        "# Punctuation count\n",
        "def count_punctuation(text):\n",
        "    return sum(1 for char in text if char in string.punctuation)\n",
        "df['num_punctuation_marks'] = df['clean_comment'].apply(count_punctuation)\n",
        "\n",
        "# Remove stopwords for clean text\n",
        "def remove_stopwords(text):\n",
        "    return ' '.join([word for word in text.split() if word not in stop_words])\n",
        "df['clean_comment_nostop'] = df['clean_comment'].apply(remove_stopwords)\n",
        "\n",
        "# -----------------------\n",
        "# Visualization (MLflow Logging)\n",
        "# -----------------------\n",
        "\n",
        "with mlflow.start_run():\n",
        "    # 1. Category distribution\n",
        "    plt.figure(figsize=(8, 5))\n",
        "    sns.countplot(data=df, x=\"category\")\n",
        "    plt.title(\"Sentiment Category Distribution\")\n",
        "    mlflow.log_figure(plt.gcf(), \"category_distribution.png\")\n",
        "    plt.close()\n",
        "\n",
        "    # 2. Word count distribution\n",
        "    sns.displot(df['word_count'], kde=True)\n",
        "    plt.title(\"Word Count Distribution\")\n",
        "    mlflow.log_figure(plt.gcf(), \"word_count_distribution.png\")\n",
        "    plt.close()\n",
        "\n",
        "    # 3. Boxplot of word count by category\n",
        "    plt.figure(figsize=(8,6))\n",
        "    sns.boxplot(x='category', y='word_count', data=df, order=[0,1,-1])\n",
        "    plt.xticks([0,1,2], ['Neutral', 'Positive', 'Negative'])\n",
        "    plt.title(\"Word Count by Sentiment\")\n",
        "    mlflow.log_figure(plt.gcf(), \"word_count_boxplot.png\")\n",
        "    plt.close()\n",
        "\n",
        "    # 4. Top 20 stopwords\n",
        "    all_stopwords = [word for comment in df['clean_comment'] for word in comment.split() if word in stop_words]\n",
        "    stopword_df = pd.DataFrame(Counter(all_stopwords).most_common(20), columns=['stopword', 'frequency'])\n",
        "    plt.figure(figsize=(10,6))\n",
        "    sns.barplot(x='stopword', y='frequency', data=stopword_df, palette='viridis')\n",
        "    plt.xticks(rotation=45)\n",
        "    plt.title(\"Top 20 Stopwords\")\n",
        "    mlflow.log_figure(plt.gcf(), \"top_stopwords.png\")\n",
        "    plt.close()\n",
        "\n",
        "    # 5. Word cloud\n",
        "    text = ' '.join(df['clean_comment'])\n",
        "    wordcloud = WordCloud(width=800, height=400, background_color='white', colormap='viridis').generate(text)\n",
        "    plt.figure(figsize=(12, 6))\n",
        "    plt.imshow(wordcloud, interpolation='bilinear')\n",
        "    plt.axis('off')\n",
        "    plt.title(\"Word Cloud of Comments\")\n",
        "    mlflow.log_figure(plt.gcf(), \"wordcloud.png\")\n",
        "    plt.close()\n",
        "\n",
        "    # 6. Top 25 bigrams\n",
        "    def get_bigrams(text):\n",
        "        words = text.split()\n",
        "        return list(zip(words, words[1:]))\n",
        "    bigram_df = pd.DataFrame(Counter([bigram for comment in df['clean_comment'] for bigram in get_bigrams(comment)]).most_common(25), columns=['bigram', 'frequency'])\n",
        "    bigram_df['bigram'] = bigram_df['bigram'].apply(lambda x: ' '.join(x))\n",
        "    plt.figure(figsize=(10, 6))\n",
        "    sns.barplot(x='frequency', y='bigram', data=bigram_df, palette='magma')\n",
        "    plt.title(\"Top 25 Bigrams\")\n",
        "    mlflow.log_figure(plt.gcf(), \"top_bigrams.png\")\n",
        "    plt.close()\n",
        "\n",
        "    # Log basic metrics\n",
        "    mlflow.log_metric(\"avg_word_count\", df['word_count'].mean())\n",
        "    mlflow.log_metric(\"avg_stopword_count\", df['stopword_count'].mean())\n",
        "    mlflow.log_metric(\"avg_num_chars\", df['num_chars'].mean())\n",
        "    mlflow.log_metric(\"avg_punctuation_count\", df['num_punctuation_marks'].mean())\n"
      ]
    },
    {
      "cell_type": "code",
      "execution_count": 5,
      "metadata": {
        "id": "6g4V_PpGyloH"
      },
      "outputs": [],
      "source": [
        "import mlflow\n",
        "import mlflow.sklearn\n",
        "from sklearn.ensemble import RandomForestClassifier\n",
        "from sklearn.feature_extraction.text import CountVectorizer\n",
        "from sklearn.model_selection import train_test_split,cross_val_score, StratifiedKFold\n",
        "from sklearn.metrics import accuracy_score, classification_report\n",
        "import pandas as pd\n",
        "import matplotlib.pyplot as plt\n",
        "import seaborn as sns"
      ]
    },
    {
      "cell_type": "code",
      "execution_count": 6,
      "metadata": {
        "id": "iUdVRD4k1LQp"
      },
      "outputs": [],
      "source": [
        "vectorizer = CountVectorizer(max_features=5000)\n",
        "X = vectorizer.fit_transform(df['clean_comment'])\n",
        "y = df['category']"
      ]
    },
    {
      "cell_type": "code",
      "execution_count": 7,
      "metadata": {
        "colab": {
          "base_uri": "https://localhost:8080/"
        },
        "id": "YrwOeb4t2Hoj",
        "outputId": "4f6af0c4-81e7-47a6-b87e-d8a77b726aa5"
      },
      "outputs": [
        {
          "data": {
            "text/plain": [
              "<36793x5000 sparse matrix of type '<class 'numpy.int64'>'\n",
              "\twith 710243 stored elements in Compressed Sparse Row format>"
            ]
          },
          "execution_count": 7,
          "metadata": {},
          "output_type": "execute_result"
        }
      ],
      "source": [
        "X"
      ]
    },
    {
      "cell_type": "code",
      "execution_count": 8,
      "metadata": {
        "colab": {
          "base_uri": "https://localhost:8080/"
        },
        "id": "D_cS4tGY2Jue",
        "outputId": "ee7e8e59-d5e3-4e08-bace-f629a7133f03"
      },
      "outputs": [
        {
          "data": {
            "text/plain": [
              "(36793, 5000)"
            ]
          },
          "execution_count": 8,
          "metadata": {},
          "output_type": "execute_result"
        }
      ],
      "source": [
        "X.shape"
      ]
    },
    {
      "cell_type": "code",
      "execution_count": 11,
      "metadata": {},
      "outputs": [],
      "source": [
        "mlflow.set_tracking_uri(\"http://13.221.75.66:5000/\")"
      ]
    },
    {
      "cell_type": "code",
      "execution_count": 12,
      "metadata": {},
      "outputs": [
        {
          "name": "stderr",
          "output_type": "stream",
          "text": [
            "2025/08/14 12:41:58 INFO mlflow.tracking.fluent: Experiment with name 'BaselineModel' does not exist. Creating a new experiment.\n"
          ]
        },
        {
          "data": {
            "text/plain": [
              "<Experiment: artifact_location='s3://capstone-mlflow/771611687038846170', creation_time=1755155520051, experiment_id='771611687038846170', last_update_time=1755155520051, lifecycle_stage='active', name='BaselineModel', tags={}>"
            ]
          },
          "execution_count": 12,
          "metadata": {},
          "output_type": "execute_result"
        }
      ],
      "source": [
        "mlflow.set_experiment(\"BaselineModel\")"
      ]
    },
    {
      "cell_type": "code",
      "execution_count": 13,
      "metadata": {
        "colab": {
          "base_uri": "https://localhost:8080/"
        },
        "id": "23f069f5",
        "outputId": "19fba0da-c2d3-4314-f71a-2d1f4e756e8c"
      },
      "outputs": [
        {
          "name": "stderr",
          "output_type": "stream",
          "text": [
            "c:\\Users\\Deepu\\anaconda3\\envs\\nlp\\lib\\site-packages\\sklearn\\metrics\\_classification.py:1565: UndefinedMetricWarning: Precision is ill-defined and being set to 0.0 in labels with no predicted samples. Use `zero_division` parameter to control this behavior.\n",
            "  _warn_prf(average, modifier, f\"{metric.capitalize()} is\", len(result))\n",
            "c:\\Users\\Deepu\\anaconda3\\envs\\nlp\\lib\\site-packages\\sklearn\\metrics\\_classification.py:1565: UndefinedMetricWarning: Precision is ill-defined and being set to 0.0 in labels with no predicted samples. Use `zero_division` parameter to control this behavior.\n",
            "  _warn_prf(average, modifier, f\"{metric.capitalize()} is\", len(result))\n",
            "c:\\Users\\Deepu\\anaconda3\\envs\\nlp\\lib\\site-packages\\sklearn\\metrics\\_classification.py:1565: UndefinedMetricWarning: Precision is ill-defined and being set to 0.0 in labels with no predicted samples. Use `zero_division` parameter to control this behavior.\n",
            "  _warn_prf(average, modifier, f\"{metric.capitalize()} is\", len(result))\n"
          ]
        },
        {
          "name": "stdout",
          "output_type": "stream",
          "text": [
            "Run complete. Accuracy: 0.6170675363500475\n"
          ]
        }
      ],
      "source": [
        "# Split data into training and testing sets\n",
        "X_train, X_test, y_train, y_test = train_test_split(\n",
        "    X, y, test_size=0.2, random_state=42, stratify=y\n",
        ")\n",
        "\n",
        "# Step 3: Train RandomForestClassifier and log with MLflow\n",
        "with mlflow.start_run() as run:\n",
        "    mlflow.set_tag(\"mlflow.runName\", \"RandomForest_Baseline_TrainTestSplit\")\n",
        "    mlflow.set_tag(\"experiment_type\", \"baseline\")\n",
        "    mlflow.set_tag(\"model_type\", \"RandomForestClassifier\")\n",
        "    mlflow.set_tag(\n",
        "        \"description\",\n",
        "        \"Baseline RandomForest model for sentiment analysis using Bag of Words (BoW) with a simple train-test split\"\n",
        "    )\n",
        "\n",
        "    # Log vectorizer parameters\n",
        "    mlflow.log_param(\"vectorizer_type\", \"CountVectorizer\")\n",
        "    mlflow.log_param(\"vectorizer_max_features\", vectorizer.max_features)\n",
        "\n",
        "    # Model hyperparameters\n",
        "    n_estimators = 100\n",
        "    max_depth = 10\n",
        "    mlflow.log_param(\"n_estimators\", n_estimators)\n",
        "    mlflow.log_param(\"max_depth\", max_depth)\n",
        "\n",
        "    # Train the model\n",
        "    model = RandomForestClassifier(\n",
        "        n_estimators=n_estimators,\n",
        "        max_depth=max_depth,\n",
        "        random_state=42\n",
        "    )\n",
        "    model.fit(X_train, y_train)\n",
        "\n",
        "    # Predict\n",
        "    y_pred = model.predict(X_test)\n",
        "\n",
        "    # Log accuracy\n",
        "    accuracy = accuracy_score(y_test, y_pred)\n",
        "    mlflow.log_metric(\"accuracy\", accuracy)\n",
        "\n",
        "    # Classification report (all metrics)\n",
        "    classification_rep = classification_report(y_test, y_pred, output_dict=True)\n",
        "\n",
        "    # Log every metric from classification_report\n",
        "    for label, metrics in classification_rep.items():\n",
        "        if isinstance(metrics, dict):\n",
        "            for metric_name, metric_value in metrics.items():\n",
        "                mlflow.log_metric(f\"{label}_{metric_name}\", metric_value)\n",
        "\n",
        "    # Save and log report as artifact\n",
        "    classification_df = pd.DataFrame(classification_rep).transpose()\n",
        "    classification_df.to_csv(\"classification_report.csv\")\n",
        "\n",
        "    df.to_csv(\"df.csv\", index=False)  # Assuming df exists earlier in your code\n",
        "\n",
        "    mlflow.log_artifact(\"classification_report.csv\")\n",
        "    mlflow.log_artifact(\"df.csv\")\n",
        "\n",
        "    # Log the trained model\n",
        "    mlflow.sklearn.log_model(model, \"model\")\n",
        "\n",
        "print(\"Run complete. Accuracy:\", accuracy)\n"
      ]
    },
    {
      "cell_type": "code",
      "execution_count": 14,
      "metadata": {
        "colab": {
          "base_uri": "https://localhost:8080/",
          "height": 713
        },
        "id": "CuSaMUuRAXeW",
        "outputId": "7e91a67c-0e57-4c7b-d61b-f550695fe27c"
      },
      "outputs": [
        {
          "data": {
            "image/png": "[encoded data removed]",
            "text/plain": [
              "<Figure size 800x600 with 2 Axes>"
            ]
          },
          "metadata": {},
          "output_type": "display_data"
        }
      ],
      "source": [
        "import matplotlib.pyplot as plt\n",
        "import seaborn as sns\n",
        "from sklearn.metrics import confusion_matrix, classification_report\n",
        "\n",
        "# Predictions\n",
        "y_pred = model.predict(X_test)\n",
        "\n",
        "# Confusion Matrix\n",
        "cm = confusion_matrix(y_test, y_pred)\n",
        "\n",
        "plt.figure(figsize=(8, 6))\n",
        "sns.heatmap(cm, annot=True, fmt='d', cmap='Blues',\n",
        "            xticklabels=model.classes_,\n",
        "            yticklabels=model.classes_)\n",
        "plt.xlabel(\"Predicted\")\n",
        "plt.ylabel(\"True\")\n",
        "plt.title(\"Confusion Matrix\")\n",
        "plt.show()\n"
      ]
    },
    {
      "cell_type": "code",
      "execution_count": 15,
      "metadata": {
        "colab": {
          "base_uri": "https://localhost:8080/",
          "height": 538
        },
        "id": "EC27TCs0I4LM",
        "outputId": "7639493e-5a66-4e8d-8bd3-708b8688c181"
      },
      "outputs": [
        {
          "name": "stderr",
          "output_type": "stream",
          "text": [
            "c:\\Users\\Deepu\\anaconda3\\envs\\nlp\\lib\\site-packages\\sklearn\\metrics\\_classification.py:1565: UndefinedMetricWarning: Precision is ill-defined and being set to 0.0 in labels with no predicted samples. Use `zero_division` parameter to control this behavior.\n",
            "  _warn_prf(average, modifier, f\"{metric.capitalize()} is\", len(result))\n",
            "c:\\Users\\Deepu\\anaconda3\\envs\\nlp\\lib\\site-packages\\sklearn\\metrics\\_classification.py:1565: UndefinedMetricWarning: Precision is ill-defined and being set to 0.0 in labels with no predicted samples. Use `zero_division` parameter to control this behavior.\n",
            "  _warn_prf(average, modifier, f\"{metric.capitalize()} is\", len(result))\n",
            "c:\\Users\\Deepu\\anaconda3\\envs\\nlp\\lib\\site-packages\\sklearn\\metrics\\_classification.py:1565: UndefinedMetricWarning: Precision is ill-defined and being set to 0.0 in labels with no predicted samples. Use `zero_division` parameter to control this behavior.\n",
            "  _warn_prf(average, modifier, f\"{metric.capitalize()} is\", len(result))\n"
          ]
        },
        {
          "data": {
            "image/png": "[encoded data removed]",
            "text/plain": [
              "<Figure size 800x400 with 2 Axes>"
            ]
          },
          "metadata": {},
          "output_type": "display_data"
        },
        {
          "name": "stdout",
          "output_type": "stream",
          "text": [
            "              precision    recall  f1-score   support\n",
            "\n",
            "          -1       0.00      0.00      0.00      1650\n",
            "           0       0.63      0.81      0.71      2555\n",
            "           1       0.61      0.78      0.68      3154\n",
            "\n",
            "    accuracy                           0.62      7359\n",
            "   macro avg       0.41      0.53      0.46      7359\n",
            "weighted avg       0.48      0.62      0.54      7359\n",
            "\n"
          ]
        },
        {
          "name": "stderr",
          "output_type": "stream",
          "text": [
            "c:\\Users\\Deepu\\anaconda3\\envs\\nlp\\lib\\site-packages\\sklearn\\metrics\\_classification.py:1565: UndefinedMetricWarning: Precision is ill-defined and being set to 0.0 in labels with no predicted samples. Use `zero_division` parameter to control this behavior.\n",
            "  _warn_prf(average, modifier, f\"{metric.capitalize()} is\", len(result))\n",
            "c:\\Users\\Deepu\\anaconda3\\envs\\nlp\\lib\\site-packages\\sklearn\\metrics\\_classification.py:1565: UndefinedMetricWarning: Precision is ill-defined and being set to 0.0 in labels with no predicted samples. Use `zero_division` parameter to control this behavior.\n",
            "  _warn_prf(average, modifier, f\"{metric.capitalize()} is\", len(result))\n",
            "c:\\Users\\Deepu\\anaconda3\\envs\\nlp\\lib\\site-packages\\sklearn\\metrics\\_classification.py:1565: UndefinedMetricWarning: Precision is ill-defined and being set to 0.0 in labels with no predicted samples. Use `zero_division` parameter to control this behavior.\n",
            "  _warn_prf(average, modifier, f\"{metric.capitalize()} is\", len(result))\n"
          ]
        }
      ],
      "source": [
        "# Classification report (numeric table + heatmap)\n",
        "classification_rep = classification_report(y_test, y_pred, output_dict=True)\n",
        "classification_df = pd.DataFrame(classification_rep).transpose()\n",
        "\n",
        "plt.figure(figsize=(8, 4))\n",
        "sns.heatmap(classification_df.iloc[:-1, :-1], annot=True, cmap=\"viridis\")\n",
        "plt.title(\"Classification Report Heatmap\")\n",
        "plt.show()\n",
        "\n",
        "# Also print the classification report text\n",
        "print(classification_report(y_test, y_pred))\n"
      ]
    },
    {
      "cell_type": "code",
      "execution_count": 16,
      "metadata": {
        "id": "fpJDdENBJC5v"
      },
      "outputs": [],
      "source": [
        "df.to_csv('reddit_preprocessing.csv',index = False)"
      ]
    },
    {
      "cell_type": "code",
      "execution_count": 17,
      "metadata": {
        "colab": {
          "base_uri": "https://localhost:8080/",
          "height": 825
        },
        "id": "nB0p-nPvUn3j",
        "outputId": "8e63e813-94a1-4a79-c804-c94590f1efde"
      },
      "outputs": [
        {
          "data": {
            "text/html": [
              "<div>\n",
              "<style scoped>\n",
              "    .dataframe tbody tr th:only-of-type {\n",
              "        vertical-align: middle;\n",
              "    }\n",
              "\n",
              "    .dataframe tbody tr th {\n",
              "        vertical-align: top;\n",
              "    }\n",
              "\n",
              "    .dataframe thead th {\n",
              "        text-align: right;\n",
              "    }\n",
              "</style>\n",
              "<table border=\"1\" class=\"dataframe\">\n",
              "  <thead>\n",
              "    <tr style=\"text-align: right;\">\n",
              "      <th></th>\n",
              "      <th>clean_comment</th>\n",
              "      <th>category</th>\n",
              "      <th>word_count</th>\n",
              "      <th>stopword_count</th>\n",
              "      <th>num_chars</th>\n",
              "      <th>num_punctuation_marks</th>\n",
              "      <th>clean_comment_nostop</th>\n",
              "    </tr>\n",
              "  </thead>\n",
              "  <tbody>\n",
              "    <tr>\n",
              "      <th>0</th>\n",
              "      <td>family mormon have never tried explain them th...</td>\n",
              "      <td>1</td>\n",
              "      <td>39</td>\n",
              "      <td>13</td>\n",
              "      <td>259</td>\n",
              "      <td>0</td>\n",
              "      <td>family mormon never tried explain still stare ...</td>\n",
              "    </tr>\n",
              "    <tr>\n",
              "      <th>1</th>\n",
              "      <td>buddhism has very much lot compatible with chr...</td>\n",
              "      <td>1</td>\n",
              "      <td>196</td>\n",
              "      <td>56</td>\n",
              "      <td>1268</td>\n",
              "      <td>0</td>\n",
              "      <td>buddhism much lot compatible christianity espe...</td>\n",
              "    </tr>\n",
              "    <tr>\n",
              "      <th>2</th>\n",
              "      <td>seriously don say thing first all they won get...</td>\n",
              "      <td>-1</td>\n",
              "      <td>86</td>\n",
              "      <td>40</td>\n",
              "      <td>459</td>\n",
              "      <td>0</td>\n",
              "      <td>seriously say thing first get complex explain ...</td>\n",
              "    </tr>\n",
              "    <tr>\n",
              "      <th>3</th>\n",
              "      <td>what you have learned yours and only yours wha...</td>\n",
              "      <td>0</td>\n",
              "      <td>29</td>\n",
              "      <td>14</td>\n",
              "      <td>167</td>\n",
              "      <td>0</td>\n",
              "      <td>learned want teach different focus goal not wr...</td>\n",
              "    </tr>\n",
              "    <tr>\n",
              "      <th>4</th>\n",
              "      <td>for your own benefit you may want read living ...</td>\n",
              "      <td>1</td>\n",
              "      <td>112</td>\n",
              "      <td>44</td>\n",
              "      <td>690</td>\n",
              "      <td>0</td>\n",
              "      <td>benefit may want read living buddha living chr...</td>\n",
              "    </tr>\n",
              "    <tr>\n",
              "      <th>...</th>\n",
              "      <td>...</td>\n",
              "      <td>...</td>\n",
              "      <td>...</td>\n",
              "      <td>...</td>\n",
              "      <td>...</td>\n",
              "      <td>...</td>\n",
              "      <td>...</td>\n",
              "    </tr>\n",
              "    <tr>\n",
              "      <th>36788</th>\n",
              "      <td>jesus</td>\n",
              "      <td>0</td>\n",
              "      <td>1</td>\n",
              "      <td>0</td>\n",
              "      <td>5</td>\n",
              "      <td>0</td>\n",
              "      <td>jesus</td>\n",
              "    </tr>\n",
              "    <tr>\n",
              "      <th>36789</th>\n",
              "      <td>kya bhai pure saal chutiya banaya modi aur jab...</td>\n",
              "      <td>1</td>\n",
              "      <td>19</td>\n",
              "      <td>0</td>\n",
              "      <td>99</td>\n",
              "      <td>0</td>\n",
              "      <td>kya bhai pure saal chutiya banaya modi aur jab...</td>\n",
              "    </tr>\n",
              "    <tr>\n",
              "      <th>36790</th>\n",
              "      <td>downvote karna tha par upvote hogaya</td>\n",
              "      <td>0</td>\n",
              "      <td>6</td>\n",
              "      <td>0</td>\n",
              "      <td>36</td>\n",
              "      <td>0</td>\n",
              "      <td>downvote karna tha par upvote hogaya</td>\n",
              "    </tr>\n",
              "    <tr>\n",
              "      <th>36791</th>\n",
              "      <td>haha nice</td>\n",
              "      <td>1</td>\n",
              "      <td>2</td>\n",
              "      <td>0</td>\n",
              "      <td>9</td>\n",
              "      <td>0</td>\n",
              "      <td>haha nice</td>\n",
              "    </tr>\n",
              "    <tr>\n",
              "      <th>36792</th>\n",
              "      <td>facebook itself now working bjp’ cell</td>\n",
              "      <td>0</td>\n",
              "      <td>6</td>\n",
              "      <td>2</td>\n",
              "      <td>37</td>\n",
              "      <td>0</td>\n",
              "      <td>facebook working bjp’ cell</td>\n",
              "    </tr>\n",
              "  </tbody>\n",
              "</table>\n",
              "<p>36793 rows × 7 columns</p>\n",
              "</div>"
            ],
            "text/plain": [
              "                                           clean_comment  category  \\\n",
              "0      family mormon have never tried explain them th...         1   \n",
              "1      buddhism has very much lot compatible with chr...         1   \n",
              "2      seriously don say thing first all they won get...        -1   \n",
              "3      what you have learned yours and only yours wha...         0   \n",
              "4      for your own benefit you may want read living ...         1   \n",
              "...                                                  ...       ...   \n",
              "36788                                              jesus         0   \n",
              "36789  kya bhai pure saal chutiya banaya modi aur jab...         1   \n",
              "36790               downvote karna tha par upvote hogaya         0   \n",
              "36791                                          haha nice         1   \n",
              "36792              facebook itself now working bjp’ cell         0   \n",
              "\n",
              "       word_count  stopword_count  num_chars  num_punctuation_marks  \\\n",
              "0              39              13        259                      0   \n",
              "1             196              56       1268                      0   \n",
              "2              86              40        459                      0   \n",
              "3              29              14        167                      0   \n",
              "4             112              44        690                      0   \n",
              "...           ...             ...        ...                    ...   \n",
              "36788           1               0          5                      0   \n",
              "36789          19               0         99                      0   \n",
              "36790           6               0         36                      0   \n",
              "36791           2               0          9                      0   \n",
              "36792           6               2         37                      0   \n",
              "\n",
              "                                    clean_comment_nostop  \n",
              "0      family mormon never tried explain still stare ...  \n",
              "1      buddhism much lot compatible christianity espe...  \n",
              "2      seriously say thing first get complex explain ...  \n",
              "3      learned want teach different focus goal not wr...  \n",
              "4      benefit may want read living buddha living chr...  \n",
              "...                                                  ...  \n",
              "36788                                              jesus  \n",
              "36789  kya bhai pure saal chutiya banaya modi aur jab...  \n",
              "36790               downvote karna tha par upvote hogaya  \n",
              "36791                                          haha nice  \n",
              "36792                         facebook working bjp’ cell  \n",
              "\n",
              "[36793 rows x 7 columns]"
            ]
          },
          "execution_count": 17,
          "metadata": {},
          "output_type": "execute_result"
        }
      ],
      "source": [
        "pd.read_csv('reddit_preprocessing.csv')"
      ]
    },
    {
      "cell_type": "code",
      "execution_count": null,
      "metadata": {
        "id": "hhQf9CJZUqDh"
      },
      "outputs": [],
      "source": []
    }
  ],
  "metadata": {
    "accelerator": "GPU",
    "colab": {
      "gpuType": "T4",
      "provenance": []
    },
    "kernelspec": {
      "display_name": "nlp",
      "language": "python",
      "name": "python3"
    },
    "language_info": {
      "codemirror_mode": {
        "name": "ipython",
        "version": 3
      },
      "file_extension": ".py",
      "mimetype": "text/x-python",
      "name": "python",
      "nbconvert_exporter": "python",
      "pygments_lexer": "ipython3",
      "version": "3.10.18"
    }
  },
  "nbformat": 4,
  "nbformat_minor": 0
}
