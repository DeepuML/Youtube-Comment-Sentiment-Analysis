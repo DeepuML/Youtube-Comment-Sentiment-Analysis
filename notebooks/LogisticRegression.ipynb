{
 "cells": [
  {
   "cell_type": "code",
   "execution_count": 25,
   "id": "90d241b4",
   "metadata": {},
   "outputs": [],
   "source": [
    "import mlflow\n",
    "mlflow.set_tracking_uri(\"http://13.221.75.66:5000/\")\n"
   ]
  },
  {
   "cell_type": "code",
   "execution_count": 26,
   "id": "177c6df1",
   "metadata": {},
   "outputs": [],
   "source": [
    "# Set experiment before logging anything\n",
    "mlflow.set_experiment(\"ML Algos with HPT\")\n",
    "\n",
    "with mlflow.start_run():\n",
    "    mlflow.log_param(\"example_param\", 42)\n"
   ]
  },
  {
   "cell_type": "code",
   "execution_count": 27,
   "id": "0069d70e",
   "metadata": {},
   "outputs": [],
   "source": [
    "import optuna\n",
    "import mlflow\n",
    "import mlflow.sklearn\n",
    "from sklearn.feature_extraction.text import CountVectorizer, TfidfVectorizer\n",
    "from sklearn.linear_model import LogisticRegression\n",
    "from sklearn.svm import SVC\n",
    "from sklearn.neighbors import KNeighborsClassifier\n",
    "from xgboost import XGBClassifier\n",
    "from lightgbm import LGBMClassifier\n",
    "from sklearn.naive_bayes import MultinomialNB\n",
    "from sklearn.ensemble import RandomForestClassifier\n",
    "from sklearn.model_selection import train_test_split\n",
    "from imblearn.over_sampling import SMOTE\n",
    "from sklearn.metrics import accuracy_score, classification_report\n",
    "import pandas as pd\n",
    "import mlflow.sklearn\n",
    "import seaborn as sns\n",
    "import matplotlib.pyplot as plt\n",
    "import os"
   ]
  },
  {
   "cell_type": "code",
   "execution_count": 28,
   "id": "1d9c0dfe",
   "metadata": {},
   "outputs": [
    {
     "data": {
      "text/plain": [
       "(36750, 7)"
      ]
     },
     "execution_count": 28,
     "metadata": {},
     "output_type": "execute_result"
    }
   ],
   "source": [
    "df= pd.read_csv(r'C:\\Users\\Deepu\\OneDrive\\Desktop\\Capstone1\\reddit_preprocessing.csv').dropna()\n",
    "df.shape"
   ]
  },
  {
   "cell_type": "code",
   "execution_count": 29,
   "id": "f41bd14e",
   "metadata": {},
   "outputs": [],
   "source": [
    "ngram_range = (1,3)\n",
    "max_features = 10000\n",
    "vectorizer = TfidfVectorizer(ngram_range=ngram_range, max_features=max_features)\n",
    "X = vectorizer.fit_transform(df['clean_comment'])\n",
    "y = df['category']\n"
   ]
  },
  {
   "cell_type": "code",
   "execution_count": 30,
   "id": "0b592cca",
   "metadata": {},
   "outputs": [],
   "source": [
    "# Step 3: SMOTE\n",
    "smote = SMOTE(random_state=42)\n",
    "X_resampled, y_resampled = smote.fit_resample(X, y)\n",
    "\n",
    "# Step 4: Train-test split\n",
    "X_train, X_test, y_train, y_test = train_test_split(\n",
    "    X_resampled, y_resampled, test_size=0.2, random_state=42, stratify=y_resampled\n",
    ")"
   ]
  },
  {
   "cell_type": "code",
   "execution_count": 31,
   "id": "5bf0f406",
   "metadata": {},
   "outputs": [
    {
     "name": "stderr",
     "output_type": "stream",
     "text": [
      "[I 2025-08-14 15:29:36,798] A new study created in memory with name: no-name-ed9d998f-868a-41a3-b855-815cd7aa9903\n"
     ]
    },
    {
     "name": "stderr",
     "output_type": "stream",
     "text": [
      "c:\\Users\\Deepu\\anaconda3\\envs\\nlp\\lib\\site-packages\\sklearn\\linear_model\\_logistic.py:1247: FutureWarning: 'multi_class' was deprecated in version 1.5 and will be removed in 1.7. From then on, it will always use 'multinomial'. Leave it to its default value to avoid this warning.\n",
      "  warnings.warn(\n",
      "[I 2025-08-14 15:29:38,136] Trial 0 finished with value: 0.7729866835764109 and parameters: {'C': 0.1869125715653317, 'max_iter': 812}. Best is trial 0 with value: 0.7729866835764109.\n",
      "c:\\Users\\Deepu\\anaconda3\\envs\\nlp\\lib\\site-packages\\sklearn\\linear_model\\_logistic.py:1247: FutureWarning: 'multi_class' was deprecated in version 1.5 and will be removed in 1.7. From then on, it will always use 'multinomial'. Leave it to its default value to avoid this warning.\n",
      "  warnings.warn(\n",
      "[I 2025-08-14 15:29:38,647] Trial 1 finished with value: 0.6540900443880786 and parameters: {'C': 0.02025233323395416, 'max_iter': 194}. Best is trial 0 with value: 0.7729866835764109.\n",
      "c:\\Users\\Deepu\\anaconda3\\envs\\nlp\\lib\\site-packages\\sklearn\\linear_model\\_logistic.py:1247: FutureWarning: 'multi_class' was deprecated in version 1.5 and will be removed in 1.7. From then on, it will always use 'multinomial'. Leave it to its default value to avoid this warning.\n",
      "  warnings.warn(\n",
      "[I 2025-08-14 15:30:00,589] Trial 2 finished with value: 0.8522511097019657 and parameters: {'C': 1.7073872284365448, 'max_iter': 706}. Best is trial 2 with value: 0.8522511097019657.\n",
      "c:\\Users\\Deepu\\anaconda3\\envs\\nlp\\lib\\site-packages\\sklearn\\linear_model\\_logistic.py:1247: FutureWarning: 'multi_class' was deprecated in version 1.5 and will be removed in 1.7. From then on, it will always use 'multinomial'. Leave it to its default value to avoid this warning.\n",
      "  warnings.warn(\n",
      "[I 2025-08-14 15:30:01,866] Trial 3 finished with value: 0.5664764320439654 and parameters: {'C': 0.0010188713412973957, 'max_iter': 507}. Best is trial 2 with value: 0.8522511097019657.\n",
      "c:\\Users\\Deepu\\anaconda3\\envs\\nlp\\lib\\site-packages\\sklearn\\linear_model\\_logistic.py:1247: FutureWarning: 'multi_class' was deprecated in version 1.5 and will be removed in 1.7. From then on, it will always use 'multinomial'. Leave it to its default value to avoid this warning.\n",
      "  warnings.warn(\n",
      "[I 2025-08-14 15:30:29,017] Trial 4 finished with value: 0.8673641936165716 and parameters: {'C': 4.401611289344311, 'max_iter': 872}. Best is trial 4 with value: 0.8673641936165716.\n",
      "c:\\Users\\Deepu\\anaconda3\\envs\\nlp\\lib\\site-packages\\sklearn\\linear_model\\_logistic.py:1247: FutureWarning: 'multi_class' was deprecated in version 1.5 and will be removed in 1.7. From then on, it will always use 'multinomial'. Leave it to its default value to avoid this warning.\n",
      "  warnings.warn(\n",
      "[I 2025-08-14 15:30:32,963] Trial 5 finished with value: 0.6028323821602198 and parameters: {'C': 0.006325011596265629, 'max_iter': 174}. Best is trial 4 with value: 0.8673641936165716.\n",
      "c:\\Users\\Deepu\\anaconda3\\envs\\nlp\\lib\\site-packages\\sklearn\\linear_model\\_logistic.py:1247: FutureWarning: 'multi_class' was deprecated in version 1.5 and will be removed in 1.7. From then on, it will always use 'multinomial'. Leave it to its default value to avoid this warning.\n",
      "  warnings.warn(\n",
      "[I 2025-08-14 15:30:34,805] Trial 6 finished with value: 0.5924751638131474 and parameters: {'C': 0.004689871527025421, 'max_iter': 513}. Best is trial 4 with value: 0.8673641936165716.\n",
      "c:\\Users\\Deepu\\anaconda3\\envs\\nlp\\lib\\site-packages\\sklearn\\linear_model\\_logistic.py:1247: FutureWarning: 'multi_class' was deprecated in version 1.5 and will be removed in 1.7. From then on, it will always use 'multinomial'. Leave it to its default value to avoid this warning.\n",
      "  warnings.warn(\n",
      "[I 2025-08-14 15:30:54,919] Trial 7 finished with value: 0.8693722257450857 and parameters: {'C': 6.688190509533723, 'max_iter': 265}. Best is trial 7 with value: 0.8693722257450857.\n",
      "c:\\Users\\Deepu\\anaconda3\\envs\\nlp\\lib\\site-packages\\sklearn\\linear_model\\_logistic.py:1247: FutureWarning: 'multi_class' was deprecated in version 1.5 and will be removed in 1.7. From then on, it will always use 'multinomial'. Leave it to its default value to avoid this warning.\n",
      "  warnings.warn(\n",
      "[I 2025-08-14 15:30:55,542] Trial 8 finished with value: 0.6119213696892835 and parameters: {'C': 0.008427174327005106, 'max_iter': 104}. Best is trial 7 with value: 0.8693722257450857.\n",
      "c:\\Users\\Deepu\\anaconda3\\envs\\nlp\\lib\\site-packages\\sklearn\\linear_model\\_logistic.py:1247: FutureWarning: 'multi_class' was deprecated in version 1.5 and will be removed in 1.7. From then on, it will always use 'multinomial'. Leave it to its default value to avoid this warning.\n",
      "  warnings.warn(\n",
      "[I 2025-08-14 15:30:56,042] Trial 9 finished with value: 0.611709997886282 and parameters: {'C': 0.0083756539790508, 'max_iter': 607}. Best is trial 7 with value: 0.8693722257450857.\n",
      "c:\\Users\\Deepu\\anaconda3\\envs\\nlp\\lib\\site-packages\\sklearn\\linear_model\\_logistic.py:1247: FutureWarning: 'multi_class' was deprecated in version 1.5 and will be removed in 1.7. From then on, it will always use 'multinomial'. Leave it to its default value to avoid this warning.\n",
      "  warnings.warn(\n",
      "[I 2025-08-14 15:30:56,259] Trial 10 finished with value: 0.5590784189389135 and parameters: {'C': 0.00011684124950538849, 'max_iter': 339}. Best is trial 7 with value: 0.8693722257450857.\n",
      "c:\\Users\\Deepu\\anaconda3\\envs\\nlp\\lib\\site-packages\\sklearn\\linear_model\\_logistic.py:1247: FutureWarning: 'multi_class' was deprecated in version 1.5 and will be removed in 1.7. From then on, it will always use 'multinomial'. Leave it to its default value to avoid this warning.\n",
      "  warnings.warn(\n",
      "[I 2025-08-14 15:31:00,561] Trial 11 finished with value: 0.8695835975480871 and parameters: {'C': 7.254167817710413, 'max_iter': 993}. Best is trial 11 with value: 0.8695835975480871.\n",
      "c:\\Users\\Deepu\\anaconda3\\envs\\nlp\\lib\\site-packages\\sklearn\\linear_model\\_logistic.py:1247: FutureWarning: 'multi_class' was deprecated in version 1.5 and will be removed in 1.7. From then on, it will always use 'multinomial'. Leave it to its default value to avoid this warning.\n",
      "  warnings.warn(\n",
      "[I 2025-08-14 15:31:01,954] Trial 12 finished with value: 0.8181145635172268 and parameters: {'C': 0.5313701623873894, 'max_iter': 950}. Best is trial 11 with value: 0.8695835975480871.\n",
      "c:\\Users\\Deepu\\anaconda3\\envs\\nlp\\lib\\site-packages\\sklearn\\linear_model\\_logistic.py:1247: FutureWarning: 'multi_class' was deprecated in version 1.5 and will be removed in 1.7. From then on, it will always use 'multinomial'. Leave it to its default value to avoid this warning.\n",
      "  warnings.warn(\n",
      "[I 2025-08-14 15:31:06,228] Trial 13 finished with value: 0.87000634115409 and parameters: {'C': 7.186366666437246, 'max_iter': 379}. Best is trial 13 with value: 0.87000634115409.\n",
      "c:\\Users\\Deepu\\anaconda3\\envs\\nlp\\lib\\site-packages\\sklearn\\linear_model\\_logistic.py:1247: FutureWarning: 'multi_class' was deprecated in version 1.5 and will be removed in 1.7. From then on, it will always use 'multinomial'. Leave it to its default value to avoid this warning.\n",
      "  warnings.warn(\n",
      "[I 2025-08-14 15:31:06,885] Trial 14 finished with value: 0.7708729655463961 and parameters: {'C': 0.17960728708297288, 'max_iter': 395}. Best is trial 13 with value: 0.87000634115409.\n",
      "c:\\Users\\Deepu\\anaconda3\\envs\\nlp\\lib\\site-packages\\sklearn\\linear_model\\_logistic.py:1247: FutureWarning: 'multi_class' was deprecated in version 1.5 and will be removed in 1.7. From then on, it will always use 'multinomial'. Leave it to its default value to avoid this warning.\n",
      "  warnings.warn(\n",
      "[I 2025-08-14 15:31:08,645] Trial 15 finished with value: 0.8439019234834073 and parameters: {'C': 1.167904284007488, 'max_iter': 702}. Best is trial 13 with value: 0.87000634115409.\n",
      "c:\\Users\\Deepu\\anaconda3\\envs\\nlp\\lib\\site-packages\\sklearn\\linear_model\\_logistic.py:1247: FutureWarning: 'multi_class' was deprecated in version 1.5 and will be removed in 1.7. From then on, it will always use 'multinomial'. Leave it to its default value to avoid this warning.\n",
      "  warnings.warn(\n",
      "[I 2025-08-14 15:31:11,543] Trial 16 finished with value: 0.8690551680405834 and parameters: {'C': 7.663123842617261, 'max_iter': 410}. Best is trial 13 with value: 0.87000634115409.\n",
      "c:\\Users\\Deepu\\anaconda3\\envs\\nlp\\lib\\site-packages\\sklearn\\linear_model\\_logistic.py:1247: FutureWarning: 'multi_class' was deprecated in version 1.5 and will be removed in 1.7. From then on, it will always use 'multinomial'. Leave it to its default value to avoid this warning.\n",
      "  warnings.warn(\n",
      "[I 2025-08-14 15:31:12,248] Trial 17 finished with value: 0.7448742337772141 and parameters: {'C': 0.10209597669616731, 'max_iter': 998}. Best is trial 13 with value: 0.87000634115409.\n",
      "c:\\Users\\Deepu\\anaconda3\\envs\\nlp\\lib\\site-packages\\sklearn\\linear_model\\_logistic.py:1247: FutureWarning: 'multi_class' was deprecated in version 1.5 and will be removed in 1.7. From then on, it will always use 'multinomial'. Leave it to its default value to avoid this warning.\n",
      "  warnings.warn(\n",
      "[I 2025-08-14 15:31:14,249] Trial 18 finished with value: 0.8310082435003171 and parameters: {'C': 0.7340336630917073, 'max_iter': 681}. Best is trial 13 with value: 0.87000634115409.\n",
      "c:\\Users\\Deepu\\anaconda3\\envs\\nlp\\lib\\site-packages\\sklearn\\linear_model\\_logistic.py:1247: FutureWarning: 'multi_class' was deprecated in version 1.5 and will be removed in 1.7. From then on, it will always use 'multinomial'. Leave it to its default value to avoid this warning.\n",
      "  warnings.warn(\n",
      "[I 2025-08-14 15:31:15,959] Trial 19 finished with value: 0.8603889241175228 and parameters: {'C': 2.638512417725475, 'max_iter': 583}. Best is trial 13 with value: 0.87000634115409.\n",
      "c:\\Users\\Deepu\\anaconda3\\envs\\nlp\\lib\\site-packages\\sklearn\\linear_model\\_logistic.py:1247: FutureWarning: 'multi_class' was deprecated in version 1.5 and will be removed in 1.7. From then on, it will always use 'multinomial'. Leave it to its default value to avoid this warning.\n",
      "  warnings.warn(\n",
      "[I 2025-08-14 15:31:16,588] Trial 20 finished with value: 0.6953075459733672 and parameters: {'C': 0.04296066218646996, 'max_iter': 795}. Best is trial 13 with value: 0.87000634115409.\n",
      "c:\\Users\\Deepu\\anaconda3\\envs\\nlp\\lib\\site-packages\\sklearn\\linear_model\\_logistic.py:1247: FutureWarning: 'multi_class' was deprecated in version 1.5 and will be removed in 1.7. From then on, it will always use 'multinomial'. Leave it to its default value to avoid this warning.\n",
      "  warnings.warn(\n",
      "[I 2025-08-14 15:31:19,417] Trial 21 finished with value: 0.8713802578735996 and parameters: {'C': 9.43700287349196, 'max_iter': 287}. Best is trial 21 with value: 0.8713802578735996.\n",
      "c:\\Users\\Deepu\\anaconda3\\envs\\nlp\\lib\\site-packages\\sklearn\\linear_model\\_logistic.py:1247: FutureWarning: 'multi_class' was deprecated in version 1.5 and will be removed in 1.7. From then on, it will always use 'multinomial'. Leave it to its default value to avoid this warning.\n",
      "  warnings.warn(\n",
      "[I 2025-08-14 15:31:23,188] Trial 22 finished with value: 0.870429084760093 and parameters: {'C': 8.79340018018083, 'max_iter': 318}. Best is trial 21 with value: 0.8713802578735996.\n",
      "c:\\Users\\Deepu\\anaconda3\\envs\\nlp\\lib\\site-packages\\sklearn\\linear_model\\_logistic.py:1247: FutureWarning: 'multi_class' was deprecated in version 1.5 and will be removed in 1.7. From then on, it will always use 'multinomial'. Leave it to its default value to avoid this warning.\n",
      "  warnings.warn(\n",
      "[I 2025-08-14 15:31:26,791] Trial 23 finished with value: 0.8703233988585922 and parameters: {'C': 9.785811571482999, 'max_iter': 311}. Best is trial 21 with value: 0.8713802578735996.\n",
      "c:\\Users\\Deepu\\anaconda3\\envs\\nlp\\lib\\site-packages\\sklearn\\linear_model\\_logistic.py:1247: FutureWarning: 'multi_class' was deprecated in version 1.5 and will be removed in 1.7. From then on, it will always use 'multinomial'. Leave it to its default value to avoid this warning.\n",
      "  warnings.warn(\n",
      "[I 2025-08-14 15:31:28,075] Trial 24 finished with value: 0.8143098710632002 and parameters: {'C': 0.47871658983316095, 'max_iter': 284}. Best is trial 21 with value: 0.8713802578735996.\n",
      "c:\\Users\\Deepu\\anaconda3\\envs\\nlp\\lib\\site-packages\\sklearn\\linear_model\\_logistic.py:1247: FutureWarning: 'multi_class' was deprecated in version 1.5 and will be removed in 1.7. From then on, it will always use 'multinomial'. Leave it to its default value to avoid this warning.\n",
      "  warnings.warn(\n",
      "[I 2025-08-14 15:31:30,279] Trial 25 finished with value: 0.8609173536250264 and parameters: {'C': 2.774264922931271, 'max_iter': 452}. Best is trial 21 with value: 0.8713802578735996.\n",
      "c:\\Users\\Deepu\\anaconda3\\envs\\nlp\\lib\\site-packages\\sklearn\\linear_model\\_logistic.py:1247: FutureWarning: 'multi_class' was deprecated in version 1.5 and will be removed in 1.7. From then on, it will always use 'multinomial'. Leave it to its default value to avoid this warning.\n",
      "  warnings.warn(\n",
      "[I 2025-08-14 15:31:32,222] Trial 26 finished with value: 0.8524624815049673 and parameters: {'C': 1.6721260739628245, 'max_iter': 268}. Best is trial 21 with value: 0.8713802578735996.\n",
      "c:\\Users\\Deepu\\anaconda3\\envs\\nlp\\lib\\site-packages\\sklearn\\linear_model\\_logistic.py:1247: FutureWarning: 'multi_class' was deprecated in version 1.5 and will be removed in 1.7. From then on, it will always use 'multinomial'. Leave it to its default value to avoid this warning.\n",
      "  warnings.warn(\n",
      "[I 2025-08-14 15:31:34,674] Trial 27 finished with value: 0.8629253857535405 and parameters: {'C': 3.206930049552907, 'max_iter': 152}. Best is trial 21 with value: 0.8713802578735996.\n",
      "c:\\Users\\Deepu\\anaconda3\\envs\\nlp\\lib\\site-packages\\sklearn\\linear_model\\_logistic.py:1247: FutureWarning: 'multi_class' was deprecated in version 1.5 and will be removed in 1.7. From then on, it will always use 'multinomial'. Leave it to its default value to avoid this warning.\n",
      "  warnings.warn(\n",
      "[I 2025-08-14 15:31:36,185] Trial 28 finished with value: 0.7945466074825618 and parameters: {'C': 0.3033687334666954, 'max_iter': 332}. Best is trial 21 with value: 0.8713802578735996.\n",
      "c:\\Users\\Deepu\\anaconda3\\envs\\nlp\\lib\\site-packages\\sklearn\\linear_model\\_logistic.py:1247: FutureWarning: 'multi_class' was deprecated in version 1.5 and will be removed in 1.7. From then on, it will always use 'multinomial'. Leave it to its default value to avoid this warning.\n",
      "  warnings.warn(\n",
      "[I 2025-08-14 15:31:38,926] Trial 29 finished with value: 0.8702177129570915 and parameters: {'C': 9.970458853642716, 'max_iter': 216}. Best is trial 21 with value: 0.8713802578735996.\n",
      "c:\\Users\\Deepu\\anaconda3\\envs\\nlp\\lib\\site-packages\\sklearn\\linear_model\\_logistic.py:1247: FutureWarning: 'multi_class' was deprecated in version 1.5 and will be removed in 1.7. From then on, it will always use 'multinomial'. Leave it to its default value to avoid this warning.\n",
      "  warnings.warn(\n",
      "c:\\Users\\Deepu\\anaconda3\\envs\\nlp\\lib\\site-packages\\_distutils_hack\\__init__.py:15: UserWarning: Distutils was imported before Setuptools, but importing Setuptools also replaces the `distutils` module in `sys.modules`. This may lead to undesirable behaviors or errors. To avoid these issues, avoid using distutils directly, ensure that setuptools is installed in the traditional way (e.g. not an editable install), and/or make sure that setuptools is always imported before distutils.\n",
      "  warnings.warn(\n",
      "c:\\Users\\Deepu\\anaconda3\\envs\\nlp\\lib\\site-packages\\_distutils_hack\\__init__.py:30: UserWarning: Setuptools is replacing distutils. Support for replacing an already imported distutils is deprecated. In the future, this condition will fail. Register concerns at https://github.com/pypa/setuptools/issues/new?template=distutils-deprecation.yml\n",
      "  warnings.warn(\n"
     ]
    },
    {
     "name": "stdout",
     "output_type": "stream",
     "text": [
      "Best Parameters: {'C': 9.43700287349196, 'max_iter': 287}\n",
      "Model Saved at: runs:/06b4e8a4a4124b938d77f0d0abb663a2/best_logisticregression_model\n"
     ]
    }
   ],
   "source": [
    "def objective_lr(trial):\n",
    "    params = {\n",
    "        \"C\": trial.suggest_float(\"C\", 1e-4, 10.0, log=True),\n",
    "        \"max_iter\": trial.suggest_int(\"max_iter\", 100, 1000)\n",
    "    }\n",
    "    model = LogisticRegression(**params, solver=\"lbfgs\", multi_class=\"auto\", random_state=42)\n",
    "    model.fit(X_train, y_train)\n",
    "    return accuracy_score(y_test, model.predict(X_test))\n",
    "\n",
    "study = optuna.create_study(direction=\"maximize\")\n",
    "study.optimize(objective_lr, n_trials=30)\n",
    "best_params = study.best_params\n",
    "\n",
    "with mlflow.start_run(run_name=\"LogisticRegression\"):\n",
    "    best_model = LogisticRegression(**best_params, solver=\"lbfgs\", multi_class=\"auto\", random_state=42)\n",
    "    best_model.fit(X_train, y_train)\n",
    "    y_pred = best_model.predict(X_test)\n",
    "    report = classification_report(y_test, y_pred, output_dict=True)\n",
    "    \n",
    "    for label, metrics in report.items():\n",
    "        if isinstance(metrics, dict):\n",
    "            for metric, value in metrics.items():\n",
    "                mlflow.log_metric(f\"{label}_{metric}\", value)\n",
    "    for param, value in best_params.items():\n",
    "        mlflow.log_param(param, value)\n",
    "    \n",
    "    model_info = mlflow.sklearn.log_model(best_model, artifact_path=\"best_logisticregression_model\")\n",
    "    print(\"Best Parameters:\", best_params)\n",
    "    print(\"Model Saved at:\", model_info.model_uri)\n"
   ]
  },
  {
   "cell_type": "code",
   "execution_count": null,
   "id": "fc034634",
   "metadata": {},
   "outputs": [],
   "source": []
  }
 ],
 "metadata": {
  "kernelspec": {
   "display_name": "nlp",
   "language": "python",
   "name": "python3"
  },
  "language_info": {
   "codemirror_mode": {
    "name": "ipython",
    "version": 3
   },
   "file_extension": ".py",
   "mimetype": "text/x-python",
   "name": "python",
   "nbconvert_exporter": "python",
   "pygments_lexer": "ipython3",
   "version": "3.10.18"
  }
 },
 "nbformat": 4,
 "nbformat_minor": 5
}
