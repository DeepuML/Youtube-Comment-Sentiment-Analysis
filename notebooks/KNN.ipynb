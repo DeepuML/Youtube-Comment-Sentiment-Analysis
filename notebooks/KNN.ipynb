{
 "cells": [
  {
   "cell_type": "code",
   "execution_count": 1,
   "id": "a2d9a27d",
   "metadata": {},
   "outputs": [
    {
     "name": "stderr",
     "output_type": "stream",
     "text": [
      "c:\\Users\\Deepu\\anaconda3\\envs\\nlp\\lib\\site-packages\\mlflow\\utils\\requirements_utils.py:20: UserWarning: pkg_resources is deprecated as an API. See https://setuptools.pypa.io/en/latest/pkg_resources.html. The pkg_resources package is slated for removal as early as 2025-11-30. Refrain from using this package or pin to Setuptools<81.\n",
      "  import pkg_resources  # noqa: TID251\n"
     ]
    }
   ],
   "source": [
    "import mlflow\n",
    "mlflow.set_tracking_uri(\"http://13.221.75.66:5000/\")\n"
   ]
  },
  {
   "cell_type": "code",
   "execution_count": null,
   "id": "b783982a",
   "metadata": {},
   "outputs": [],
   "source": [
    "import optuna\n",
    "import mlflow\n",
    "import mlflow.sklearn\n",
    "from sklearn.feature_extraction.text import CountVectorizer, TfidfVectorizer\n",
    "from sklearn.linear_model import LogisticRegression\n",
    "from sklearn.svm import SVC\n",
    "from sklearn.neighbors import KNeighborsClassifier\n",
    "from xgboost import XGBClassifier\n",
    "from lightgbm import LGBMClassifier\n",
    "from sklearn.naive_bayes import MultinomialNB\n",
    "from sklearn.ensemble import RandomForestClassifier\n",
    "from sklearn.model_selection import train_test_split\n",
    "from imblearn.over_sampling import SMOTE\n",
    "from sklearn.metrics import accuracy_score, classification_report\n",
    "import pandas as pd\n",
    "import mlflow.sklearn\n",
    "import seaborn as sns\n",
    "import matplotlib.pyplot as plt\n",
    "import os"
   ]
  },
  {
   "cell_type": "code",
   "execution_count": null,
   "id": "e76e2456",
   "metadata": {},
   "outputs": [
    {
     "data": {
      "text/plain": [
       "(36750, 7)"
      ]
     },
     "execution_count": 5,
     "metadata": {},
     "output_type": "execute_result"
    }
   ],
   "source": [
    "df= pd.read_csv(r'C:\\Users\\Deepu\\OneDrive\\Desktop\\Capstone1\\reddit_preprocessing.csv').dropna()\n",
    "df.shape"
   ]
  },
  {
   "cell_type": "code",
   "execution_count": null,
   "id": "a1a99309",
   "metadata": {},
   "outputs": [],
   "source": [
    "# ===============================\n",
    "# Step 2: Vectorization (TF-IDF)\n",
    "# ===============================\n",
    "ngram_range = (1, 3)   # Trigrams\n",
    "max_features = 1000    # Limit vocab size\n",
    "\n",
    "\n",
    "\n",
    "X_train, X_test, y_train, y_test = train_test_split(\n",
    "    df['clean_comment'],df['category'] , test_size=0.2, random_state=42, stratify=df['category']\n",
    ")\n",
    "\n",
    "vectorizer = TfidfVectorizer(ngram_range=ngram_range, max_features=max_features)\n",
    "===============================\n",
    "# Step 3: Apply SMOTE\n",
    "# ===============================\n",
    "smote = SMOTE(random_state=42)\n",
    "X_resampled, y_resampled = smote.fit_resample(X, y)\n",
    "\n",
    "# ===============================\n",
    "# Step 4: Train-test split\n",
    "# ===============================\n"
   ]
  },
  {
   "cell_type": "code",
   "execution_count": null,
   "id": "fb549dd4",
   "metadata": {},
   "outputs": [],
   "source": [
    "# =============================\n",
    "# Step 5: Optuna Objective Function\n",
    "# ===============================\n",
    "def objective_lr(trial):\n",
    "    params = {\n",
    "        \"C\": trial.suggest_float(\"C\", 1e-4, 10.0, log=True),\n",
    "        \"max_iter\": trial.suggest_int(\"max_iter\", 100, 1000)\n",
    "    }\n",
    "    model = LogisticRegression(**params, solver=\"lbfgs\", multi_class=\"auto\", random_state=42)\n",
    "    model.fit(X_train, y_train)\n",
    "    return accuracy_score(y_test, model.predict(X_test))\n",
    "\n",
    "# ===============================\n",
    "# Step 6: Hyperparameter Tuning\n",
    "# ===============================\n",
    "mlflow.set_experiment(\"ML Algos with HPT\")\n",
    "\n",
    "study = optuna.create_study(direction=\"maximize\")\n",
    "study.optimize(objective_lr, n_trials=30)\n",
    "best_params = study.best_params\n",
    "\n",
    "# ==============================="
   ]
  },
  {
   "cell_type": "code",
   "execution_count": 9,
   "id": "d6b6e866",
   "metadata": {},
   "outputs": [
    {
     "name": "stderr",
     "output_type": "stream",
     "text": [
      "[I 2025-08-14 15:05:04,850] A new study created in memory with name: no-name-75806790-8bd7-4b87-a201-0f4a0d8e67e5\n",
      "[I 2025-08-14 15:05:15,319] Trial 0 finished with value: 0.5039103783555273 and parameters: {'n_neighbors': 26, 'weights': 'uniform', 'metric': 'euclidean'}. Best is trial 0 with value: 0.5039103783555273.\n",
      "[I 2025-08-14 15:05:24,389] Trial 1 finished with value: 0.5171211160431198 and parameters: {'n_neighbors': 30, 'weights': 'distance', 'metric': 'minkowski'}. Best is trial 1 with value: 0.5171211160431198.\n",
      "[I 2025-08-14 15:05:34,202] Trial 2 finished with value: 0.5110970196575777 and parameters: {'n_neighbors': 23, 'weights': 'uniform', 'metric': 'euclidean'}. Best is trial 1 with value: 0.5171211160431198.\n",
      "[I 2025-08-14 15:05:43,252] Trial 3 finished with value: 0.5138448530965969 and parameters: {'n_neighbors': 22, 'weights': 'uniform', 'metric': 'euclidean'}. Best is trial 1 with value: 0.5171211160431198.\n",
      "[I 2025-08-14 15:05:58,262] Trial 4 finished with value: 0.5571760727119003 and parameters: {'n_neighbors': 13, 'weights': 'distance', 'metric': 'euclidean'}. Best is trial 4 with value: 0.5571760727119003.\n",
      "[I 2025-08-14 15:06:17,167] Trial 5 finished with value: 0.35214542380046504 and parameters: {'n_neighbors': 22, 'weights': 'uniform', 'metric': 'manhattan'}. Best is trial 4 with value: 0.5571760727119003.\n",
      "[I 2025-08-14 15:06:25,089] Trial 6 finished with value: 0.541851616994293 and parameters: {'n_neighbors': 20, 'weights': 'distance', 'metric': 'minkowski'}. Best is trial 4 with value: 0.5571760727119003.\n",
      "[I 2025-08-14 15:06:27,538] Trial 7 finished with value: 0.37507926442612555 and parameters: {'n_neighbors': 13, 'weights': 'distance', 'metric': 'manhattan'}. Best is trial 4 with value: 0.5571760727119003.\n",
      "[I 2025-08-14 15:06:35,772] Trial 8 finished with value: 0.5110970196575777 and parameters: {'n_neighbors': 23, 'weights': 'uniform', 'metric': 'minkowski'}. Best is trial 4 with value: 0.5571760727119003.\n",
      "[I 2025-08-14 15:06:51,169] Trial 9 finished with value: 0.5313887127457197 and parameters: {'n_neighbors': 15, 'weights': 'uniform', 'metric': 'euclidean'}. Best is trial 4 with value: 0.5571760727119003.\n",
      "[I 2025-08-14 15:06:59,599] Trial 10 finished with value: 0.5858169520186007 and parameters: {'n_neighbors': 5, 'weights': 'distance', 'metric': 'euclidean'}. Best is trial 10 with value: 0.5858169520186007.\n",
      "[I 2025-08-14 15:07:08,399] Trial 11 finished with value: 0.5925808497146481 and parameters: {'n_neighbors': 3, 'weights': 'distance', 'metric': 'euclidean'}. Best is trial 11 with value: 0.5925808497146481.\n",
      "[I 2025-08-14 15:07:17,031] Trial 12 finished with value: 0.6006129782287043 and parameters: {'n_neighbors': 2, 'weights': 'distance', 'metric': 'euclidean'}. Best is trial 12 with value: 0.6006129782287043.\n",
      "[I 2025-08-14 15:07:24,219] Trial 13 finished with value: 0.601564151342211 and parameters: {'n_neighbors': 1, 'weights': 'distance', 'metric': 'euclidean'}. Best is trial 13 with value: 0.601564151342211.\n",
      "[I 2025-08-14 15:07:33,400] Trial 14 finished with value: 0.5768336503910378 and parameters: {'n_neighbors': 7, 'weights': 'distance', 'metric': 'euclidean'}. Best is trial 13 with value: 0.601564151342211.\n",
      "[I 2025-08-14 15:07:42,515] Trial 15 finished with value: 0.4254914394419784 and parameters: {'n_neighbors': 1, 'weights': 'distance', 'metric': 'manhattan'}. Best is trial 13 with value: 0.601564151342211.\n",
      "[I 2025-08-14 15:07:53,119] Trial 16 finished with value: 0.5714436694145001 and parameters: {'n_neighbors': 9, 'weights': 'distance', 'metric': 'euclidean'}. Best is trial 13 with value: 0.601564151342211.\n",
      "[I 2025-08-14 15:08:00,607] Trial 17 finished with value: 0.5714436694145001 and parameters: {'n_neighbors': 9, 'weights': 'distance', 'metric': 'euclidean'}. Best is trial 13 with value: 0.601564151342211.\n",
      "[I 2025-08-14 15:08:06,719] Trial 18 finished with value: 0.601564151342211 and parameters: {'n_neighbors': 1, 'weights': 'distance', 'metric': 'minkowski'}. Best is trial 13 with value: 0.601564151342211.\n",
      "[I 2025-08-14 15:08:14,439] Trial 19 finished with value: 0.5858169520186007 and parameters: {'n_neighbors': 5, 'weights': 'distance', 'metric': 'minkowski'}. Best is trial 13 with value: 0.601564151342211.\n",
      "[I 2025-08-14 15:08:22,906] Trial 20 finished with value: 0.5686958359754809 and parameters: {'n_neighbors': 10, 'weights': 'distance', 'metric': 'minkowski'}. Best is trial 13 with value: 0.601564151342211.\n",
      "[I 2025-08-14 15:08:29,662] Trial 21 finished with value: 0.601564151342211 and parameters: {'n_neighbors': 1, 'weights': 'distance', 'metric': 'minkowski'}. Best is trial 13 with value: 0.601564151342211.\n",
      "[I 2025-08-14 15:08:36,102] Trial 22 finished with value: 0.601564151342211 and parameters: {'n_neighbors': 1, 'weights': 'distance', 'metric': 'minkowski'}. Best is trial 13 with value: 0.601564151342211.\n",
      "[I 2025-08-14 15:08:45,311] Trial 23 finished with value: 0.5858169520186007 and parameters: {'n_neighbors': 5, 'weights': 'distance', 'metric': 'minkowski'}. Best is trial 13 with value: 0.601564151342211.\n",
      "[I 2025-08-14 15:08:53,480] Trial 24 finished with value: 0.5925808497146481 and parameters: {'n_neighbors': 4, 'weights': 'distance', 'metric': 'minkowski'}. Best is trial 13 with value: 0.601564151342211.\n",
      "[I 2025-08-14 15:09:05,180] Trial 25 finished with value: 0.5768336503910378 and parameters: {'n_neighbors': 7, 'weights': 'distance', 'metric': 'minkowski'}. Best is trial 13 with value: 0.601564151342211.\n",
      "[I 2025-08-14 15:09:27,825] Trial 26 finished with value: 0.601564151342211 and parameters: {'n_neighbors': 1, 'weights': 'distance', 'metric': 'minkowski'}. Best is trial 13 with value: 0.601564151342211.\n",
      "[I 2025-08-14 15:09:54,359] Trial 27 finished with value: 0.3849080532656944 and parameters: {'n_neighbors': 7, 'weights': 'distance', 'metric': 'manhattan'}. Best is trial 13 with value: 0.601564151342211.\n",
      "[I 2025-08-14 15:10:13,907] Trial 28 finished with value: 0.5925808497146481 and parameters: {'n_neighbors': 3, 'weights': 'distance', 'metric': 'minkowski'}. Best is trial 13 with value: 0.601564151342211.\n",
      "[I 2025-08-14 15:10:35,592] Trial 29 finished with value: 0.528429507503699 and parameters: {'n_neighbors': 17, 'weights': 'uniform', 'metric': 'minkowski'}. Best is trial 13 with value: 0.601564151342211.\n"
     ]
    },
    {
     "name": "stdout",
     "output_type": "stream",
     "text": [
      "Best Parameters: {'n_neighbors': 1, 'weights': 'distance', 'metric': 'euclidean'}\n",
      "Model Saved at: runs:/33c853b2f20f4e5da3d1ae6c19ad1a14/best_knn_model\n"
     ]
    }
   ],
   "source": [
    "def objective_knn(trial):\n",
    "    params = {\n",
    "        \"n_neighbors\": trial.suggest_int(\"n_neighbors\", 1, 30),\n",
    "        \"weights\": trial.suggest_categorical(\"weights\", [\"uniform\", \"distance\"]),\n",
    "        \"metric\": trial.suggest_categorical(\"metric\", [\"euclidean\", \"manhattan\", \"minkowski\"])\n",
    "    }\n",
    "    model = KNeighborsClassifier(**params)\n",
    "    model.fit(X_train, y_train)\n",
    "    return accuracy_score(y_test, model.predict(X_test))\n",
    "\n",
    "study = optuna.create_study(direction=\"maximize\")\n",
    "study.optimize(objective_knn, n_trials=30)\n",
    "best_params = study.best_params\n",
    "\n",
    "with mlflow.start_run(run_name=\"KNN\"):\n",
    "    best_model = KNeighborsClassifier(**best_params)\n",
    "    best_model.fit(X_train, y_train)\n",
    "    y_pred = best_model.predict(X_test)\n",
    "    report = classification_report(y_test, y_pred, output_dict=True)\n",
    "    \n",
    "    for label, metrics in report.items():\n",
    "        if isinstance(metrics, dict):\n",
    "            for metric, value in metrics.items():\n",
    "                mlflow.log_metric(f\"{label}_{metric}\", value)\n",
    "    for param, value in best_params.items():\n",
    "        mlflow.log_param(param, value)\n",
    "    \n",
    "    model_info = mlflow.sklearn.log_model(best_model, artifact_path=\"best_knn_model\")\n",
    "    print(\"Best Parameters:\", best_params)\n",
    "    print(\"Model Saved at:\", model_info.model_uri)\n"
   ]
  },
  {
   "cell_type": "code",
   "execution_count": null,
   "id": "c15080d4",
   "metadata": {},
   "outputs": [],
   "source": []
  }
 ],
 "metadata": {
  "kernelspec": {
   "display_name": "nlp",
   "language": "python",
   "name": "python3"
  },
  "language_info": {
   "codemirror_mode": {
    "name": "ipython",
    "version": 3
   },
   "file_extension": ".py",
   "mimetype": "text/x-python",
   "name": "python",
   "nbconvert_exporter": "python",
   "pygments_lexer": "ipython3",
   "version": "3.10.18"
  }
 },
 "nbformat": 4,
 "nbformat_minor": 5
}
