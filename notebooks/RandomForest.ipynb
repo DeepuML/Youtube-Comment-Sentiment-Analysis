{
 "cells": [
  {
   "cell_type": "code",
   "execution_count": 7,
   "id": "5f3ebe40",
   "metadata": {},
   "outputs": [
    {
     "name": "stderr",
     "output_type": "stream",
     "text": [
      "c:\\Users\\Deepu\\anaconda3\\envs\\nlp\\lib\\site-packages\\mlflow\\utils\\requirements_utils.py:20: UserWarning: pkg_resources is deprecated as an API. See https://setuptools.pypa.io/en/latest/pkg_resources.html. The pkg_resources package is slated for removal as early as 2025-11-30. Refrain from using this package or pin to Setuptools<81.\n",
      "  import pkg_resources  # noqa: TID251\n"
     ]
    }
   ],
   "source": [
    "import mlflow\n",
    "mlflow.set_tracking_uri(\"http://13.221.75.66:5000/\")\n"
   ]
  },
  {
   "cell_type": "code",
   "execution_count": 8,
   "id": "ef62c13b",
   "metadata": {},
   "outputs": [
    {
     "name": "stderr",
     "output_type": "stream",
     "text": [
      "2025/08/14 12:38:55 INFO mlflow.tracking.fluent: Experiment with name 'ML Algos with HPT' does not exist. Creating a new experiment.\n"
     ]
    }
   ],
   "source": [
    "# Set experiment before logging anything\n",
    "mlflow.set_experiment(\"ML Algos with HPT\")\n",
    "\n",
    "with mlflow.start_run():\n",
    "    mlflow.log_param(\"example_param\", 42)\n"
   ]
  },
  {
   "cell_type": "code",
   "execution_count": null,
   "id": "5edc1752",
   "metadata": {},
   "outputs": [],
   "source": [
    "import optuna\n",
    "import mlflow\n",
    "import mlflow.sklearn\n",
    "from sklearn.feature_extraction.text import CountVectorizer, TfidfVectorizer\n",
    "from sklearn.linear_model import LogisticRegression\n",
    "from sklearn.svm import SVC\n",
    "from sklearn.neighbors import KNeighborsClassifier\n",
    "from xgboost import XGBClassifier\n",
    "from lightgbm import LGBMClassifier\n",
    "from sklearn.naive_bayes import MultinomialNB\n",
    "from sklearn.ensemble import RandomForestClassifier\n",
    "from sklearn.model_selection import train_test_split\n",
    "from imblearn.over_sampling import SMOTE\n",
    "from sklearn.metrics import accuracy_score, classification_report\n",
    "import pandas as pd\n",
    "import mlflow.sklearn\n",
    "import seaborn as sns\n",
    "import matplotlib.pyplot as plt\n",
    "import osimport "
   ]
  },
  {
   "cell_type": "code",
   "execution_count": null,
   "id": "870476fa",
   "metadata": {},
   "outputs": [
    {
     "data": {
      "text/plain": [
       "(36750, 7)"
      ]
     },
     "execution_count": 11,
     "metadata": {},
     "output_type": "execute_result"
    }
   ],
   "source": [
    "df= pd.read_csv(r'C:\\Users\\Deepu\\OneDrive\\Desktop\\Capstone1\\reddit_preprocessing.csv').dropna()\n",
    "df.shape"
   ]
  },
  {
   "cell_type": "code",
   "execution_count": null,
   "id": "2ed961bb",
   "metadata": {},
   "outputs": [
    {
     "name": "stderr",
     "output_type": "stream",
     "text": [
      "[I 2025-08-14 12:49:47,939] A new study created in memory with name: no-name-73163a0f-22bc-463d-b73b-af8a55d17bd1\n",
      "[I 2025-08-14 12:50:04,981] Trial 0 finished with value: 0.7130627774254914 and parameters: {'n_estimators': 200, 'max_depth': 16, 'min_samples_split': 7, 'min_samples_leaf': 5}. Best is trial 0 with value: 0.7130627774254914.\n",
      "[I 2025-08-14 12:50:09,799] Trial 1 finished with value: 0.6481716339040372 and parameters: {'n_estimators': 262, 'max_depth': 7, 'min_samples_split': 2, 'min_samples_leaf': 3}. Best is trial 0 with value: 0.7130627774254914.\n",
      "[I 2025-08-14 12:50:12,078] Trial 2 finished with value: 0.6252377932783767 and parameters: {'n_estimators': 191, 'max_depth': 5, 'min_samples_split': 6, 'min_samples_leaf': 3}. Best is trial 0 with value: 0.7130627774254914.\n",
      "[I 2025-08-14 12:50:21,475] Trial 3 finished with value: 0.7082012259564574 and parameters: {'n_estimators': 180, 'max_depth': 14, 'min_samples_split': 5, 'min_samples_leaf': 3}. Best is trial 0 with value: 0.7130627774254914.\n",
      "[I 2025-08-14 12:50:22,956] Trial 4 finished with value: 0.6011414077362079 and parameters: {'n_estimators': 122, 'max_depth': 3, 'min_samples_split': 6, 'min_samples_leaf': 1}. Best is trial 0 with value: 0.7130627774254914.\n",
      "[I 2025-08-14 12:50:26,339] Trial 5 finished with value: 0.6237581906573663 and parameters: {'n_estimators': 209, 'max_depth': 5, 'min_samples_split': 2, 'min_samples_leaf': 5}. Best is trial 0 with value: 0.7130627774254914.\n",
      "[I 2025-08-14 12:50:44,129] Trial 6 finished with value: 0.7264848869160854 and parameters: {'n_estimators': 267, 'max_depth': 18, 'min_samples_split': 10, 'min_samples_leaf': 2}. Best is trial 6 with value: 0.7264848869160854.\n",
      "[I 2025-08-14 12:50:46,409] Trial 7 finished with value: 0.6518706404565631 and parameters: {'n_estimators': 135, 'max_depth': 7, 'min_samples_split': 6, 'min_samples_leaf': 5}. Best is trial 6 with value: 0.7264848869160854.\n",
      "[I 2025-08-14 12:50:59,526] Trial 8 finished with value: 0.7200380469245403 and parameters: {'n_estimators': 228, 'max_depth': 17, 'min_samples_split': 4, 'min_samples_leaf': 5}. Best is trial 6 with value: 0.7264848869160854.\n",
      "[I 2025-08-14 12:51:19,189] Trial 9 finished with value: 0.7183470725005284 and parameters: {'n_estimators': 246, 'max_depth': 16, 'min_samples_split': 7, 'min_samples_leaf': 2}. Best is trial 6 with value: 0.7264848869160854.\n",
      "[I 2025-08-14 12:51:25,031] Trial 10 finished with value: 0.7343056436271401 and parameters: {'n_estimators': 69, 'max_depth': 20, 'min_samples_split': 10, 'min_samples_leaf': 1}. Best is trial 10 with value: 0.7343056436271401.\n",
      "[I 2025-08-14 12:51:38,171] Trial 11 finished with value: 0.7287042908476009 and parameters: {'n_estimators': 78, 'max_depth': 19, 'min_samples_split': 10, 'min_samples_leaf': 1}. Best is trial 10 with value: 0.7343056436271401.\n",
      "[I 2025-08-14 12:51:42,971] Trial 12 finished with value: 0.7328260410061298 and parameters: {'n_estimators': 57, 'max_depth': 20, 'min_samples_split': 10, 'min_samples_leaf': 1}. Best is trial 10 with value: 0.7343056436271401.\n",
      "[I 2025-08-14 12:51:49,944] Trial 13 finished with value: 0.7330374128091313 and parameters: {'n_estimators': 87, 'max_depth': 20, 'min_samples_split': 9, 'min_samples_leaf': 1}. Best is trial 10 with value: 0.7343056436271401.\n",
      "[I 2025-08-14 12:51:53,029] Trial 14 finished with value: 0.7004861551469034 and parameters: {'n_estimators': 98, 'max_depth': 12, 'min_samples_split': 8, 'min_samples_leaf': 2}. Best is trial 10 with value: 0.7343056436271401.\n",
      "[I 2025-08-14 12:52:03,909] Trial 15 finished with value: 0.7341999577256394 and parameters: {'n_estimators': 141, 'max_depth': 20, 'min_samples_split': 9, 'min_samples_leaf': 1}. Best is trial 10 with value: 0.7343056436271401.\n",
      "[I 2025-08-14 12:52:18,104] Trial 16 finished with value: 0.7024941872754175 and parameters: {'n_estimators': 146, 'max_depth': 13, 'min_samples_split': 8, 'min_samples_leaf': 2}. Best is trial 10 with value: 0.7343056436271401.\n",
      "[I 2025-08-14 12:52:24,829] Trial 17 finished with value: 0.6777636863242443 and parameters: {'n_estimators': 156, 'max_depth': 10, 'min_samples_split': 9, 'min_samples_leaf': 4}. Best is trial 10 with value: 0.7343056436271401.\n",
      "[I 2025-08-14 12:52:47,546] Trial 18 finished with value: 0.6822024941872754 and parameters: {'n_estimators': 299, 'max_depth': 10, 'min_samples_split': 9, 'min_samples_leaf': 1}. Best is trial 10 with value: 0.7343056436271401.\n",
      "[I 2025-08-14 12:52:49,842] Trial 19 finished with value: 0.703128302684422 and parameters: {'n_estimators': 54, 'max_depth': 15, 'min_samples_split': 8, 'min_samples_leaf': 4}. Best is trial 10 with value: 0.7343056436271401.\n",
      "[I 2025-08-14 12:52:56,798] Trial 20 finished with value: 0.7253223419995772 and parameters: {'n_estimators': 108, 'max_depth': 18, 'min_samples_split': 4, 'min_samples_leaf': 2}. Best is trial 10 with value: 0.7343056436271401.\n",
      "[I 2025-08-14 12:53:04,817] Trial 21 finished with value: 0.7324032974001268 and parameters: {'n_estimators': 84, 'max_depth': 20, 'min_samples_split': 9, 'min_samples_leaf': 1}. Best is trial 10 with value: 0.7343056436271401.\n",
      "[I 2025-08-14 12:53:13,116] Trial 22 finished with value: 0.7318748678926231 and parameters: {'n_estimators': 81, 'max_depth': 20, 'min_samples_split': 9, 'min_samples_leaf': 1}. Best is trial 10 with value: 0.7343056436271401.\n",
      "[I 2025-08-14 12:53:25,342] Trial 23 finished with value: 0.7329317269076305 and parameters: {'n_estimators': 160, 'max_depth': 18, 'min_samples_split': 10, 'min_samples_leaf': 1}. Best is trial 10 with value: 0.7343056436271401.\n",
      "[I 2025-08-14 12:53:33,489] Trial 24 finished with value: 0.720143732826041 and parameters: {'n_estimators': 117, 'max_depth': 17, 'min_samples_split': 7, 'min_samples_leaf': 2}. Best is trial 10 with value: 0.7343056436271401.\n",
      "[I 2025-08-14 12:53:38,984] Trial 25 finished with value: 0.7232086239695624 and parameters: {'n_estimators': 68, 'max_depth': 19, 'min_samples_split': 8, 'min_samples_leaf': 1}. Best is trial 10 with value: 0.7343056436271401.\n",
      "[I 2025-08-14 12:53:47,996] Trial 26 finished with value: 0.7280701754385965 and parameters: {'n_estimators': 101, 'max_depth': 20, 'min_samples_split': 9, 'min_samples_leaf': 2}. Best is trial 10 with value: 0.7343056436271401.\n",
      "[I 2025-08-14 12:53:55,792] Trial 27 finished with value: 0.714859437751004 and parameters: {'n_estimators': 124, 'max_depth': 15, 'min_samples_split': 10, 'min_samples_leaf': 1}. Best is trial 10 with value: 0.7343056436271401.\n",
      "[I 2025-08-14 12:54:03,714] Trial 28 finished with value: 0.7143310082435003 and parameters: {'n_estimators': 92, 'max_depth': 17, 'min_samples_split': 9, 'min_samples_leaf': 4}. Best is trial 10 with value: 0.7343056436271401.\n",
      "[I 2025-08-14 12:54:06,963] Trial 29 finished with value: 0.7138025787359966 and parameters: {'n_estimators': 51, 'max_depth': 16, 'min_samples_split': 7, 'min_samples_leaf': 2}. Best is trial 10 with value: 0.7343056436271401.\n"
     ]
    }
   ],
   "source": [
    "import pandas as pd\n",
    "from sklearn.feature_extraction.text import TfidfVectorizer\n",
    "from imblearn.over_sampling import SMOTE\n",
    "from sklearn.model_selection import train_test_split\n",
    "from sklearn.metrics import classification_report, accuracy_score\n",
    "from sklearn.ensemble import RandomForestClassifier\n",
    "import mlflow\n",
    "import mlflow.sklearn\n",
    "import optuna\n",
    "\n",
    "mlflow.set_experiment(\"ML Algos with HPT\")\n",
    "\n",
    "# Preprocessing\n",
    "df['category'] = df['category'].map({-1: 2, 0: 0, 1: 1})\n",
    "df = df.dropna(subset=['category'])\n",
    "vectorizer = TfidfVectorizer(ngram_range=(1, 3), max_features=1000)\n",
    "X = vectorizer.fit_transform(df['clean_comment'])\n",
    "y = df['category']\n",
    "X_resampled, y_resampled = SMOTE(random_state=42).fit_resample(X, y)\n",
    "X_train, X_test, y_train, y_test = train_test_split(X_resampled, y_resampled, test_size=0.2, random_state=42, stratify=y_resampled)\n",
    "\n",
    "def objective_rf(trial):\n",
    "    params = {\n",
    "        \"n_estimators\": trial.suggest_int(\"n_estimators\", 50, 300),\n",
    "        \"max_depth\": trial.suggest_int(\"max_depth\", 3, 20),\n",
    "        \"min_samples_split\": trial.suggest_int(\"min_samples_split\", 2, 10),\n",
    "        \"min_samples_leaf\": trial.suggest_int(\"min_samples_leaf\", 1, 5)\n",
    "    }\n",
    "    model = RandomForestClassifier(**params, random_state=42)\n",
    "    model.fit(X_train, y_train)\n",
    "    return accuracy_score(y_test, model.predict(X_test))\n",
    "\n",
    "study = optuna.create_study(direction=\"maximize\")\n",
    "study.optimize(objective_rf, n_trials=30)\n",
    "best_params = study.best_params\n",
    "\n",
    "with mlflow.start_run(run_name=\"RandomForest\"):\n",
    "    best_model = RandomForestClassifier(**best_params, random_state=42)\n",
    "    best_model.fit(X_train, y_train)\n",
    "    y_pred = best_model.predict(X_test)\n",
    "    report = classification_report(y_test, y_pred, output_dict=True)\n",
    "    \n",
    "    for label, metrics in report.items():\n",
    "        if isinstance(metrics, dict):\n",
    "            for metric, value in metrics.items():\n",
    "                mlflow.log_metric(f\"{label}_{metric}\", value)\n",
    "    for param, value in best_params.items():\n",
    "        mlflow.log_param(param, value)\n",
    "    \n",
    "    model_info = mlflow.sklearn.log_model(best_model, artifact_path=\"best_randomforest_model\")\n",
    "    print(\"Best Parameters:\", best_params)\n",
    "    print(\"Model Saved at:\", model_info.model_uri)\n"
   ]
  },
  {
   "cell_type": "code",
   "execution_count": null,
   "id": "71c9fc55",
   "metadata": {},
   "outputs": [],
   "source": []
  }
 ],
 "metadata": {
  "kernelspec": {
   "display_name": "nlp",
   "language": "python",
   "name": "python3"
  },
  "language_info": {
   "codemirror_mode": {
    "name": "ipython",
    "version": 3
   },
   "file_extension": ".py",
   "mimetype": "text/x-python",
   "name": "python",
   "nbconvert_exporter": "python",
   "pygments_lexer": "ipython3",
   "version": "3.10.18"
  }
 },
 "nbformat": 4,
 "nbformat_minor": 5
}
